{
 "cells": [
  {
   "cell_type": "markdown",
   "id": "7190f621-a7bd-41b4-81af-25a1fb15b7ad",
   "metadata": {},
   "source": [
    "Control Statements:\n",
    "\n",
    "Control statements are used to control the flow of output.\n",
    "There are three types of control statements \n",
    "- Pass\n",
    "- Continue\n",
    "- Break"
   ]
  },
  {
   "cell_type": "code",
   "execution_count": 8,
   "id": "fd2225ed-be4c-4999-86a6-49874755279c",
   "metadata": {},
   "outputs": [
    {
     "name": "stdout",
     "output_type": "stream",
     "text": [
      "1\n",
      "2\n",
      "3\n",
      "4\n",
      "5\n",
      "6\n",
      "8\n",
      "9\n",
      "10\n"
     ]
    }
   ],
   "source": [
    "#pass\n",
    "\n",
    "num = [1,2,3,4,5,6,7,8,9,10]\n",
    "\n",
    "for a in num:\n",
    "    if a == 7:\n",
    "        pass\n",
    "    else:\n",
    "        print(a)"
   ]
  },
  {
   "cell_type": "code",
   "execution_count": 9,
   "id": "009317d4-63a7-4494-ac1f-3744e992fcd5",
   "metadata": {},
   "outputs": [
    {
     "name": "stdout",
     "output_type": "stream",
     "text": [
      "11\n",
      "21\n",
      "31\n",
      "51\n",
      "61\n",
      "71\n"
     ]
    }
   ],
   "source": [
    "#continue: Continue is similar to pass\n",
    "\n",
    "digits = [11,21,31,41,51,61,71]\n",
    "\n",
    "for b in digits:\n",
    "    if b == 41:\n",
    "        continue\n",
    "    else:\n",
    "        print(b)"
   ]
  },
  {
   "cell_type": "code",
   "execution_count": 10,
   "id": "bfa3e724-c729-48d8-a73e-8dc4e4d93d84",
   "metadata": {},
   "outputs": [
    {
     "name": "stdout",
     "output_type": "stream",
     "text": [
      "1\n",
      "2\n",
      "3\n",
      "4\n",
      "5\n",
      "6\n"
     ]
    }
   ],
   "source": [
    "#Break: It breaks the output wherever you want\n",
    "\n",
    "nums = [1,2,3,4,5,6,7,8,9,10]\n",
    "\n",
    "for c in nums:\n",
    "    if c == 7:\n",
    "        break\n",
    "    else:\n",
    "        print(c)"
   ]
  },
  {
   "cell_type": "code",
   "execution_count": 11,
   "id": "f26af363-1c5c-4e17-90d3-015308d787ed",
   "metadata": {},
   "outputs": [
    {
     "name": "stdout",
     "output_type": "stream",
     "text": [
      "1\n",
      "2\n",
      "4\n",
      "5\n",
      "6\n",
      "7\n",
      "8\n",
      "10\n"
     ]
    }
   ],
   "source": [
    "num = [1,2,3,4,5,6,7,8,9,10]\n",
    "\n",
    "for d in num:\n",
    "    if d == 3:\n",
    "        pass\n",
    "    elif d == 9:\n",
    "        continue\n",
    "    else:\n",
    "        print(d)"
   ]
  },
  {
   "cell_type": "code",
   "execution_count": 14,
   "id": "760ada5c-b648-4cee-95ec-d7006893d683",
   "metadata": {},
   "outputs": [
    {
     "name": "stdout",
     "output_type": "stream",
     "text": [
      "1\n",
      "2\n",
      "3\n",
      "4\n",
      "6\n",
      "7\n",
      "8\n",
      "9\n",
      "11\n",
      "12\n",
      "13\n",
      "14\n",
      "15\n",
      "16\n",
      "17\n"
     ]
    }
   ],
   "source": [
    "#write to programme from 0 to 20 and add a pass, continue and break in same programm\n",
    "\n",
    "x = [1,2,3,4,5,6,7,8,9,10,11,12,13,14,15,16,17,18,19,20]\n",
    "\n",
    "for i in x:\n",
    "    if i == 5:\n",
    "        pass\n",
    "    elif i == 10:\n",
    "        continue\n",
    "    elif i == 18:\n",
    "        break\n",
    "    else:\n",
    "        print(i)"
   ]
  },
  {
   "cell_type": "code",
   "execution_count": 15,
   "id": "5f87017b-583e-4dd2-8d3e-65c5473c29cb",
   "metadata": {},
   "outputs": [
    {
     "name": "stdout",
     "output_type": "stream",
     "text": [
      "0\n",
      "1\n",
      "2\n",
      "3\n",
      "4\n",
      "5\n",
      "6\n",
      "7\n",
      "8\n",
      "9\n",
      "10\n",
      "11\n",
      "13\n",
      "15\n",
      "16\n",
      "17\n"
     ]
    }
   ],
   "source": [
    "for y in range(0,21):\n",
    "    if y == 12:\n",
    "        pass\n",
    "    elif y == 14:\n",
    "        continue\n",
    "    elif y == 18:\n",
    "        break\n",
    "    else:\n",
    "        print(y)"
   ]
  }
 ],
 "metadata": {
  "kernelspec": {
   "display_name": "Python 3 (ipykernel)",
   "language": "python",
   "name": "python3"
  },
  "language_info": {
   "codemirror_mode": {
    "name": "ipython",
    "version": 3
   },
   "file_extension": ".py",
   "mimetype": "text/x-python",
   "name": "python",
   "nbconvert_exporter": "python",
   "pygments_lexer": "ipython3",
   "version": "3.12.4"
  }
 },
 "nbformat": 4,
 "nbformat_minor": 5
}
