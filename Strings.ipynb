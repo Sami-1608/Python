{
 "cells": [
  {
   "cell_type": "markdown",
   "id": "5150d342-9cb6-40b9-bb7a-cd6baa889bc7",
   "metadata": {},
   "source": [
    "1) Define Strings.\n",
    "   Strings is the sequence of characters. It is an immutable data type, meaning once you create a string, you cannot change it.\n",
    "   Strings are represented using single quotes( ' ) or double quotes ( \" ) and triple quotes ( \"' ). Tripe quotes are also represented as\n",
    "   comments.  "
   ]
  },
  {
   "cell_type": "markdown",
   "id": "5208ad54-7fc9-431c-b258-67b03a7bb396",
   "metadata": {},
   "source": [
    "2) Create 10examples using single and double quotations."
   ]
  },
  {
   "cell_type": "code",
   "execution_count": 1,
   "id": "b3045feb-e6d0-4f93-97ea-8afb93483071",
   "metadata": {},
   "outputs": [
    {
     "name": "stdout",
     "output_type": "stream",
     "text": [
      "<class 'str'>\n"
     ]
    }
   ],
   "source": [
    "#Examples\n",
    "name = \"My name is Mohammed Sami\"\n",
    "print(type(name))"
   ]
  },
  {
   "cell_type": "code",
   "execution_count": 3,
   "id": "c5fcb1d5-0265-4c6c-9929-70384b822a15",
   "metadata": {},
   "outputs": [
    {
     "name": "stdout",
     "output_type": "stream",
     "text": [
      "<class 'str'>\n"
     ]
    }
   ],
   "source": [
    "location = ' I live in Hyderabad '\n",
    "print(type(location))"
   ]
  },
  {
   "cell_type": "code",
   "execution_count": 9,
   "id": "07eba5b6-be95-478d-86cd-412d65d618dd",
   "metadata": {},
   "outputs": [
    {
     "name": "stdout",
     "output_type": "stream",
     "text": [
      "<class 'str'>\n",
      "<class 'str'>\n",
      "<class 'str'>\n"
     ]
    }
   ],
   "source": [
    "name = \"My name is Mohammed Sami\"\n",
    "age = ' I am 28 years old '\n",
    "location = \" I live in Hyderabad \"\n",
    "print(type(name))\n",
    "print(type(age))\n",
    "print(type(location))"
   ]
  },
  {
   "cell_type": "code",
   "execution_count": 17,
   "id": "f02e7f4f-26be-4c29-9abe-a2154bd73ba3",
   "metadata": {},
   "outputs": [
    {
     "name": "stdout",
     "output_type": "stream",
     "text": [
      "<class 'str'>\n"
     ]
    }
   ],
   "source": [
    "a = ''' My name is Mohammed Sami\n",
    "        I am 28 years old\n",
    "        I live in Hyderabad and i am learning data science '''\n",
    "print(type(a))"
   ]
  },
  {
   "cell_type": "markdown",
   "id": "39299e68-03a3-4929-a87f-2ea8a8d187b5",
   "metadata": {},
   "source": [
    "3) Create a string of 50 characters and access any 10 using index and also apply slicing."
   ]
  },
  {
   "cell_type": "code",
   "execution_count": 53,
   "id": "951a4e50-5e8d-4c27-887f-afcbd18b0b0f",
   "metadata": {
    "scrolled": true
   },
   "outputs": [
    {
     "name": "stdout",
     "output_type": "stream",
     "text": [
      "<class 'str'>\n",
      "m\n",
      "n\n",
      "t\n",
      "m\n",
      "e\n",
      "My \n",
      "y \n",
      "name is Mohammed Sa\n",
      " for the better grow\n",
      "y name is Mohammed Sami. I am from Hyderabad and i am 28 years old. Currently im working and also learning Data Science for the better growth\n",
      "My name is Mohammed Sami. I am from Hyderabad and i am 28 years old. Currently im working and also learning Data Science for the better grow\n"
     ]
    }
   ],
   "source": [
    "#creating a 50 character string\n",
    "name = \"My name is Mohammed Sami. I am from Hyderabad and i am 28 years old. Currently im working and also learning Data Science for the better growth\"\n",
    "print(type(name))\n",
    "print(name[5])\n",
    "print(name[3])\n",
    "print(name[ -2 ])\n",
    "print(name[22])\n",
    "print(name[ -12 ])\n",
    "\n",
    "print(name[ :3 ])\n",
    "print(name[1 : 3])\n",
    "print(name[3 : 22])\n",
    "print(name[-22 : -2])\n",
    "print(name[1: ])\n",
    "print(name[ : -2])\n"
   ]
  },
  {
   "cell_type": "markdown",
   "id": "e439ba2a-9c27-45cd-90b8-2da73b9c20a2",
   "metadata": {},
   "source": [
    "4) Apply Operation.\n",
    "   There are two types of Python operations: i) Concatenation ii) Repetition\n",
    "   i) Concatenation : Combining two or more strings\n",
    "   ii) Repetition : Repeating a string multiple times. \" /n\" if you use this at the end of the string it creates next line."
   ]
  },
  {
   "cell_type": "code",
   "execution_count": 13,
   "id": "6dd49d11-6b11-4780-9c68-b763a6d3e88f",
   "metadata": {},
   "outputs": [
    {
     "name": "stdout",
     "output_type": "stream",
     "text": [
      "Helloworld\n",
      "Hello world\n",
      "Hello  world\n"
     ]
    }
   ],
   "source": [
    "#Concatenation\n",
    "#Examples\n",
    "a = \"Hello\"\n",
    "b = \"world\"\n",
    "c = a + b\n",
    "print(c)\n",
    "\n",
    "#As you see over here we didn't got a space between the character's. We got two ways to add up the space between them\n",
    "a = \"Hello\"\n",
    "b = \" world\"\n",
    "c = a + b\n",
    "print(c)\n",
    "\n",
    "#We can add \" \" to add up space between two variables \n",
    "\n",
    "c = a + \" \" + b\n",
    "print(c)"
   ]
  },
  {
   "cell_type": "code",
   "execution_count": 47,
   "id": "0c944ae6-1861-4c6f-9139-ad62490525a7",
   "metadata": {},
   "outputs": [
    {
     "name": "stdout",
     "output_type": "stream",
     "text": [
      "Hello Hello Hello \n",
      "I am Mohammed Sami\n",
      "I am 28 years old\n",
      "I am from Hyderabad\n"
     ]
    }
   ],
   "source": [
    "#Repetition\n",
    "#Examples\n",
    "\n",
    "str = \"Hello \"\n",
    "result = str * 3\n",
    "print(result)\n",
    "\n",
    "#Multiline string\n",
    "\n",
    "str1 = '''I am Mohammed Sami\n",
    "I am 28 years old\n",
    "I am from Hyderabad'''\n",
    "print(str1)"
   ]
  },
  {
   "cell_type": "code",
   "execution_count": 53,
   "id": "a21f2634-089e-4a77-b1d0-60a1e61d117b",
   "metadata": {},
   "outputs": [
    {
     "name": "stdout",
     "output_type": "stream",
     "text": [
      "l\n",
      "o\n",
      "o\n"
     ]
    }
   ],
   "source": [
    "#Indexing : Accessing individual characters in a string. Index is represented by [ ]\n",
    "#Example\n",
    "\n",
    "a = \"Hello\"\n",
    "print(a[3])\n",
    "print(a[4])\n",
    "print(a[ -1 ])"
   ]
  },
  {
   "cell_type": "markdown",
   "id": "809ac79b-e166-4e0f-acee-9244c0c1ef62",
   "metadata": {},
   "source": [
    "6) Explain about string formats.\n",
    "   We have three methods.\n",
    "   i) old method (or) percerntage method(%)\n",
    "   ii) Format method\n",
    "   iii) F-string method"
   ]
  },
  {
   "cell_type": "code",
   "execution_count": 76,
   "id": "8c8836c0-5ff2-4833-bd07-bdbb9202cc28",
   "metadata": {},
   "outputs": [
    {
     "name": "stdout",
     "output_type": "stream",
     "text": [
      "My name is sami. And i'm 28 years old.\n"
     ]
    }
   ],
   "source": [
    "#Examples\n",
    "#Old Format method\n",
    "\n",
    "# ( %s ) is used for string and ( %d ) is used for integer.\n",
    "\n",
    "name = \"sami\"\n",
    "age = 28\n",
    "formstring = \"My name is %s. And i'm %d years old.\" % (name, age)\n",
    "print(formstring)"
   ]
  },
  {
   "cell_type": "code",
   "execution_count": 92,
   "id": "32752f17-9863-4d96-8193-1017f07c27c5",
   "metadata": {},
   "outputs": [
    {
     "name": "stdout",
     "output_type": "stream",
     "text": [
      "My name is sami and i am 28 year old.\n"
     ]
    }
   ],
   "source": [
    "#Format method = Format method is an update of Old format method. In place of %s (or) %d we use curly brackets {} to represent a value.\n",
    "\n",
    "name = \"sami\"\n",
    "age = 28\n",
    "str = \"My name is {} and i am {} year old.\" .format (name, age)\n",
    "#There shouldn't be any gap between curly brackets\n",
    "print(str)"
   ]
  },
  {
   "cell_type": "code",
   "execution_count": 102,
   "id": "5fe9a167-c65a-4449-adfb-7a37b426ef0a",
   "metadata": {},
   "outputs": [
    {
     "name": "stdout",
     "output_type": "stream",
     "text": [
      " My name is sami and i am 28 years old. I stay in hyderabad.\n"
     ]
    }
   ],
   "source": [
    "# F-string method\n",
    "\n",
    "name = \"sami\"\n",
    "age = 28\n",
    "location = \"hyderabad\"\n",
    "\n",
    "fstr = f\" My name is {name} and i am {age} years old. I stay in {location}.\"\n",
    "print(fstr)"
   ]
  },
  {
   "cell_type": "markdown",
   "id": "d456c888-d532-4141-b23b-3ee9a48897b2",
   "metadata": {},
   "source": [
    "6) Apply methods:\n",
    "   There are multiple methods is python strings\n",
    "   len(): It counts the length of characters.\n",
    "   lower() / upper(): Converts the uppercase (or) lowercase\n",
    "   strips(): Removes leading(beginning) or trailing(ending) whitespaces\n",
    "   replace(): replacing a substring with a substring\n",
    "   split(): splits the string\n",
    "   join(): joins the string"
   ]
  },
  {
   "cell_type": "code",
   "execution_count": 107,
   "id": "9273fc11-5192-4ebe-91eb-867699ea574f",
   "metadata": {},
   "outputs": [
    {
     "name": "stdout",
     "output_type": "stream",
     "text": [
      "4\n"
     ]
    }
   ],
   "source": [
    "#Examples:\n",
    "\n",
    "a = \"sami\"\n",
    "print(len(a))"
   ]
  },
  {
   "cell_type": "code",
   "execution_count": 109,
   "id": "dda3e2e4-09a4-4774-81fb-6782e357a033",
   "metadata": {},
   "outputs": [
    {
     "name": "stdout",
     "output_type": "stream",
     "text": [
      "SAMI\n"
     ]
    }
   ],
   "source": [
    "a = \"sami\"\n",
    "print(a.upper())"
   ]
  },
  {
   "cell_type": "code",
   "execution_count": 117,
   "id": "1dc43d14-f9a8-49a8-a354-d74c9bb805d5",
   "metadata": {},
   "outputs": [
    {
     "name": "stdout",
     "output_type": "stream",
     "text": [
      "sami\n"
     ]
    }
   ],
   "source": [
    "a = \"SAMI\"\n",
    "print(a.lower())"
   ]
  },
  {
   "cell_type": "code",
   "execution_count": 121,
   "id": "70491b7d-693f-4f5f-b02c-d208de7cab50",
   "metadata": {},
   "outputs": [
    {
     "name": "stdout",
     "output_type": "stream",
     "text": [
      "sami\n",
      " sami \n"
     ]
    }
   ],
   "source": [
    "a = \" sami \"\n",
    "print(a.strip())\n",
    "print(a)"
   ]
  },
  {
   "cell_type": "code",
   "execution_count": 123,
   "id": "8ea1868f-ec9f-473b-afca-4ff1b580bfa4",
   "metadata": {},
   "outputs": [
    {
     "name": "stdout",
     "output_type": "stream",
     "text": [
      "I am sami\n"
     ]
    }
   ],
   "source": [
    "a = \"I am mohammed sami\"\n",
    "b = a.replace(\"mohammed sami\", \"sami\")\n",
    "print(b)"
   ]
  },
  {
   "cell_type": "code",
   "execution_count": 125,
   "id": "1cb77ee0-dd4e-4dc4-ad00-c777bbaaf137",
   "metadata": {},
   "outputs": [
    {
     "name": "stdout",
     "output_type": "stream",
     "text": [
      "['My', 'name', 'is', 'mohammed', 'sami']\n"
     ]
    }
   ],
   "source": [
    "a = \"My name is mohammed sami\"\n",
    "b = a.split()\n",
    "print(b)"
   ]
  },
  {
   "cell_type": "code",
   "execution_count": 143,
   "id": "a2291773-8be0-4c77-9190-108cf9f903fd",
   "metadata": {},
   "outputs": [
    {
     "name": "stdout",
     "output_type": "stream",
     "text": [
      "my name is sami\n"
     ]
    }
   ],
   "source": [
    "a = \"my\", \"name\", \"is\", \"sami\"\n",
    "b = ' '.join(a)\n",
    "print(b)"
   ]
  },
  {
   "cell_type": "code",
   "execution_count": null,
   "id": "9e3c4cd8-35c7-4ca4-b253-cd6f08a1a4fb",
   "metadata": {},
   "outputs": [],
   "source": []
  }
 ],
 "metadata": {
  "kernelspec": {
   "display_name": "Python 3 (ipykernel)",
   "language": "python",
   "name": "python3"
  },
  "language_info": {
   "codemirror_mode": {
    "name": "ipython",
    "version": 3
   },
   "file_extension": ".py",
   "mimetype": "text/x-python",
   "name": "python",
   "nbconvert_exporter": "python",
   "pygments_lexer": "ipython3",
   "version": "3.12.4"
  }
 },
 "nbformat": 4,
 "nbformat_minor": 5
}
