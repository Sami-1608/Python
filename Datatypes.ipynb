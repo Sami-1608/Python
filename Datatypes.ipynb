{
 "cells": [
  {
   "cell_type": "markdown",
   "id": "17293bfe-f8ce-4b23-97e4-6521c84735c9",
   "metadata": {},
   "source": [
    "# Datatypes"
   ]
  },
  {
   "cell_type": "markdown",
   "id": "7330471b-68b4-42f9-ab1e-1a8995bba1cf",
   "metadata": {},
   "source": [
    "# 1.Explain about Datatypes.\n",
    "# - Datatypes are used to identify the types of Data.\n",
    "# - Datatypes is generally divided into two types \"Basic\" and \"Advanced\" in other words \"primitive\" or \"Non-primitive\"\n",
    "# - where as \"Basic\" and \"Advanced\" Datatypes are again divided into different types.\n",
    "# - Basic Datatypes - Int, Float, Complex, Boolean\n",
    "# - Advanced Datatypes - List, String, Arrany, Tupple, Dictionary, Set\n",
    "# - Type( ) function is used to identify the type of funtion in a data.\n",
    "# - print(type( ))"
   ]
  },
  {
   "cell_type": "markdown",
   "id": "dbac6901-4f55-499b-8f84-9861c39d2eeb",
   "metadata": {},
   "source": [
    "# 2.Explain about Integers with examples.\n",
    "# - Int or Integer is a number, positive or negative, without decimals of unlimited length(Infinity)."
   ]
  },
  {
   "cell_type": "code",
   "execution_count": 1,
   "id": "aebb1c74-f197-4bfc-af8f-afb312d10d41",
   "metadata": {},
   "outputs": [
    {
     "name": "stdout",
     "output_type": "stream",
     "text": [
      "<class 'int'>\n"
     ]
    }
   ],
   "source": [
    "# Example for Integer.\n",
    "x = 2345\n",
    "print(type(x))"
   ]
  },
  {
   "cell_type": "code",
   "execution_count": 3,
   "id": "e7115b99-77ad-426a-bbca-301e613d8329",
   "metadata": {},
   "outputs": [
    {
     "name": "stdout",
     "output_type": "stream",
     "text": [
      "<class 'int'>\n"
     ]
    }
   ],
   "source": [
    "y = 232131433431\n",
    "print(type(x))"
   ]
  },
  {
   "cell_type": "code",
   "execution_count": 9,
   "id": "d7707819-d042-494e-8f89-a224d33f0652",
   "metadata": {},
   "outputs": [
    {
     "name": "stdout",
     "output_type": "stream",
     "text": [
      "<class 'int'>\n"
     ]
    }
   ],
   "source": [
    "z = -21\n",
    "print(type(z))"
   ]
  },
  {
   "cell_type": "markdown",
   "id": "76452728-2029-4f1b-a161-5eb6653f45a6",
   "metadata": {},
   "source": [
    "# 3.Explain about float with examples.\n",
    "# - Float is a number with decimal points or decimal values."
   ]
  },
  {
   "cell_type": "code",
   "execution_count": 7,
   "id": "065d34d6-e983-4945-9469-4c3a98331042",
   "metadata": {},
   "outputs": [
    {
     "name": "stdout",
     "output_type": "stream",
     "text": [
      "<class 'float'>\n"
     ]
    }
   ],
   "source": [
    "# Example for float.\n",
    "x = 3.1312312\n",
    "print(type(x))"
   ]
  },
  {
   "cell_type": "code",
   "execution_count": 11,
   "id": "9c3dc4d4-f44a-464f-b37d-7512c95d5c65",
   "metadata": {},
   "outputs": [
    {
     "name": "stdout",
     "output_type": "stream",
     "text": [
      "<class 'float'>\n"
     ]
    }
   ],
   "source": [
    "y = 123.13413431\n",
    "print(type(y))"
   ]
  },
  {
   "cell_type": "code",
   "execution_count": 15,
   "id": "c8884120-0800-48fe-b5ef-45256aae645e",
   "metadata": {},
   "outputs": [
    {
     "name": "stdout",
     "output_type": "stream",
     "text": [
      "<class 'float'>\n"
     ]
    }
   ],
   "source": [
    "z = 123.312312\n",
    "print(type(z))"
   ]
  },
  {
   "cell_type": "markdown",
   "id": "875afa9e-7d94-451c-962e-74afd1686b1a",
   "metadata": {},
   "source": [
    "# 4.Explain about complex with examples\n",
    "# - Complex numbers are the combination of real number and imaginary number whereas in real number can contain a Int or Float and imaginary number is denoted by \"j\"."
   ]
  },
  {
   "cell_type": "code",
   "execution_count": 17,
   "id": "33a17044-ff46-4061-b0fe-7b94c6459a35",
   "metadata": {},
   "outputs": [
    {
     "name": "stdout",
     "output_type": "stream",
     "text": [
      "<class 'complex'>\n"
     ]
    }
   ],
   "source": [
    "# Example for Complex.\n",
    "a = 3+1j\n",
    "print(type(a))"
   ]
  },
  {
   "cell_type": "code",
   "execution_count": 19,
   "id": "17913055-db0d-4988-9c15-217ced011e3b",
   "metadata": {},
   "outputs": [
    {
     "name": "stdout",
     "output_type": "stream",
     "text": [
      "<class 'complex'>\n"
     ]
    }
   ],
   "source": [
    "b = 2.23+0j\n",
    "print(type(b))"
   ]
  },
  {
   "cell_type": "code",
   "execution_count": 23,
   "id": "8096a8d8-dc45-4d40-8484-53420a1b4a5a",
   "metadata": {},
   "outputs": [
    {
     "name": "stdout",
     "output_type": "stream",
     "text": [
      "<class 'complex'>\n"
     ]
    }
   ],
   "source": [
    "c = 4+7j\n",
    "print(type(c))"
   ]
  },
  {
   "cell_type": "markdown",
   "id": "4d20648e-a046-4e55-9642-1f22db3e30ab",
   "metadata": {},
   "source": [
    "# 5. Explain about Boolean with examples\n",
    "# - Boolean is a data type which is represented as True or False depending on the value.\n",
    "# - If a condition is satisfied then the value is true.\n",
    "# - If a condition is not-satisfied then the value is false."
   ]
  },
  {
   "cell_type": "code",
   "execution_count": 13,
   "id": "d621cbf8-3a63-4769-b7ac-8561b9c3b94e",
   "metadata": {},
   "outputs": [
    {
     "data": {
      "text/plain": [
       "True"
      ]
     },
     "execution_count": 13,
     "metadata": {},
     "output_type": "execute_result"
    }
   ],
   "source": [
    "# Example for Boolean\n",
    "\n",
    "bool(5)"
   ]
  },
  {
   "cell_type": "code",
   "execution_count": 17,
   "id": "8cc742a0-c7a7-421a-8346-647c6c3e97b7",
   "metadata": {},
   "outputs": [
    {
     "data": {
      "text/plain": [
       "False"
      ]
     },
     "execution_count": 17,
     "metadata": {},
     "output_type": "execute_result"
    }
   ],
   "source": [
    "bool(0) # \"0\" Doesn't hold any value in bool functions"
   ]
  },
  {
   "cell_type": "code",
   "execution_count": 19,
   "id": "c15f4d1b-f447-478c-bb2f-cd105ef00bdf",
   "metadata": {},
   "outputs": [
    {
     "data": {
      "text/plain": [
       "True"
      ]
     },
     "execution_count": 19,
     "metadata": {},
     "output_type": "execute_result"
    }
   ],
   "source": [
    "bool(8.25)"
   ]
  },
  {
   "cell_type": "code",
   "execution_count": 23,
   "id": "d981ea71-6c45-4ae3-8fbf-7f04e15756fc",
   "metadata": {},
   "outputs": [
    {
     "data": {
      "text/plain": [
       "False"
      ]
     },
     "execution_count": 23,
     "metadata": {},
     "output_type": "execute_result"
    }
   ],
   "source": [
    "bool(0.00)"
   ]
  },
  {
   "cell_type": "code",
   "execution_count": 25,
   "id": "7fb1ce73-1ab4-42be-b322-5d719730c699",
   "metadata": {},
   "outputs": [
    {
     "data": {
      "text/plain": [
       "True"
      ]
     },
     "execution_count": 25,
     "metadata": {},
     "output_type": "execute_result"
    }
   ],
   "source": [
    "bool(1+6j)"
   ]
  },
  {
   "cell_type": "code",
   "execution_count": 27,
   "id": "994e4e6a-01a7-46c5-8840-3d412e4151a4",
   "metadata": {},
   "outputs": [
    {
     "data": {
      "text/plain": [
       "False"
      ]
     },
     "execution_count": 27,
     "metadata": {},
     "output_type": "execute_result"
    }
   ],
   "source": [
    "bool(0+0j)"
   ]
  },
  {
   "cell_type": "code",
   "execution_count": 29,
   "id": "8249dc0b-94be-4e60-a4d3-b47c2abec169",
   "metadata": {},
   "outputs": [
    {
     "name": "stdout",
     "output_type": "stream",
     "text": [
      "True\n"
     ]
    }
   ],
   "source": [
    "# Example for boolean functions\n",
    "\n",
    "print(6 > 0)"
   ]
  },
  {
   "cell_type": "code",
   "execution_count": 31,
   "id": "2109bac1-e57d-4126-9204-0fd2f7aa906b",
   "metadata": {},
   "outputs": [
    {
     "name": "stdout",
     "output_type": "stream",
     "text": [
      "False\n"
     ]
    }
   ],
   "source": [
    "print(0 > 1)"
   ]
  },
  {
   "cell_type": "code",
   "execution_count": 35,
   "id": "bf8f80ea-8c31-4f08-879a-3bd3f9762e44",
   "metadata": {},
   "outputs": [
    {
     "name": "stdout",
     "output_type": "stream",
     "text": [
      "False\n"
     ]
    }
   ],
   "source": [
    "print(4 == 2)  # \"==\" represents that the values are actually equal to."
   ]
  },
  {
   "cell_type": "markdown",
   "id": "2d274049-78c2-4574-a45c-b06f19e28a6f",
   "metadata": {},
   "source": [
    "# 6. Type Conversions\n",
    "# - Type conversiion basically means converting one type of data into another type of data.\n",
    "# - Int can be converted to float and vice versa but we can't convert complex into Int & Float but a Int & Float can be converted into complex."
   ]
  },
  {
   "cell_type": "code",
   "execution_count": 19,
   "id": "bf7127cf-7853-4242-8923-2c45a0f950ac",
   "metadata": {},
   "outputs": [
    {
     "name": "stdout",
     "output_type": "stream",
     "text": [
      "123\n",
      "<class 'int'>\n",
      "123.0\n",
      "<class 'float'>\n",
      "345\n",
      "<class 'int'>\n",
      "345.0\n",
      "<class 'float'>\n"
     ]
    }
   ],
   "source": [
    "#Examples for Type conversion.\n",
    "#Int to Float\n",
    "\n",
    "a = 123\n",
    "print(a)\n",
    "print(type(a))\n",
    "\n",
    "b = float(a)\n",
    "print(b)\n",
    "print(type(b))\n",
    "\n",
    "#example 2\n",
    "\n",
    "x = 345\n",
    "print(x)\n",
    "print(type(x))\n",
    "\n",
    "y = float(x)\n",
    "print(y)\n",
    "print(type(y))"
   ]
  },
  {
   "cell_type": "code",
   "execution_count": 39,
   "id": "9cdd7360-9b6b-4103-bbe7-6bc94111c4fb",
   "metadata": {},
   "outputs": [
    {
     "name": "stdout",
     "output_type": "stream",
     "text": [
      "3213.21\n",
      "<class 'float'>\n",
      "3213\n",
      "<class 'int'>\n",
      "12312.3121\n",
      "<class 'float'>\n",
      "12312\n",
      "<class 'int'>\n"
     ]
    }
   ],
   "source": [
    "#Float to Int\n",
    "\n",
    "a = 3213.21\n",
    "print(a)\n",
    "print(type(a))\n",
    "\n",
    "b = int(a)\n",
    "print(b)\n",
    "print(type(b))\n",
    "\n",
    "#Example 2\n",
    "\n",
    "c = 12312.3121\n",
    "print(c)\n",
    "print(type(c))\n",
    "\n",
    "d = int(c)\n",
    "print(d)\n",
    "print(type(d))"
   ]
  },
  {
   "cell_type": "code",
   "execution_count": 55,
   "id": "2466c3e4-255d-405c-a3d8-d4dc10f790e6",
   "metadata": {},
   "outputs": [
    {
     "name": "stdout",
     "output_type": "stream",
     "text": [
      "12312\n",
      "<class 'int'>\n",
      "(12312+0j)\n",
      "<class 'complex'>\n",
      "434343\n",
      "<class 'int'>\n",
      "(434343+0j)\n",
      "<class 'complex'>\n"
     ]
    }
   ],
   "source": [
    "#Int to complex\n",
    "\n",
    "a = 12312\n",
    "print(a)\n",
    "print(type(a))\n",
    "\n",
    "b = complex(a)\n",
    "print(b)\n",
    "print(type(b))\n",
    "\n",
    "#example 2\n",
    "\n",
    "c = 434343\n",
    "print(c)\n",
    "print(type(c))\n",
    "\n",
    "d = complex(c)\n",
    "print(d)\n",
    "print(type(d))"
   ]
  },
  {
   "cell_type": "code",
   "execution_count": null,
   "id": "9e3c0907-5815-44f0-a9ae-5686b3a6b05b",
   "metadata": {},
   "outputs": [],
   "source": []
  }
 ],
 "metadata": {
  "kernelspec": {
   "display_name": "Python 3 (ipykernel)",
   "language": "python",
   "name": "python3"
  },
  "language_info": {
   "codemirror_mode": {
    "name": "ipython",
    "version": 3
   },
   "file_extension": ".py",
   "mimetype": "text/x-python",
   "name": "python",
   "nbconvert_exporter": "python",
   "pygments_lexer": "ipython3",
   "version": "3.12.4"
  }
 },
 "nbformat": 4,
 "nbformat_minor": 5
}
