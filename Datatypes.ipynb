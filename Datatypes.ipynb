{
 "cells": [
  {
   "cell_type": "markdown",
   "id": "17293bfe-f8ce-4b23-97e4-6521c84735c9",
   "metadata": {},
   "source": [
    "# Datatypes"
   ]
  },
  {
   "cell_type": "markdown",
   "id": "7330471b-68b4-42f9-ab1e-1a8995bba1cf",
   "metadata": {},
   "source": [
    "# 1.Explain about Datatypes.\n",
    "# - Datatypes are used to identify the types of Data.\n",
    "# - Datatypes is generally divided into two types \"Basic\" and \"Advanced\" in other words \"primitive\" or \"Non-primitive\"\n",
    "# - where as \"Basic\" and \"Advanced\" Datatypes are again divided into different types.\n",
    "# - Basic Datatypes - Int, Float, Complex, Boolean\n",
    "# - Advanced Datatypes - List, String, Arrany, Tupple, Dictionary, Set\n",
    "# - Type( ) function is used to identify the type of funtion in a data.\n",
    "# - print(type( ))"
   ]
  },
  {
   "cell_type": "markdown",
   "id": "dbac6901-4f55-499b-8f84-9861c39d2eeb",
   "metadata": {},
   "source": [
    "# 2.Explain about Integers with examples.\n",
    "# - Int or Integer is a number, positive or negative, without decimals of unlimited length(Infinity)."
   ]
  },
  {
   "cell_type": "code",
   "execution_count": 1,
   "id": "aebb1c74-f197-4bfc-af8f-afb312d10d41",
   "metadata": {},
   "outputs": [
    {
     "name": "stdout",
     "output_type": "stream",
     "text": [
      "<class 'int'>\n"
     ]
    }
   ],
   "source": [
    "# Example for Integer.\n",
    "x = 2345\n",
    "print(type(x))"
   ]
  },
  {
   "cell_type": "code",
   "execution_count": 3,
   "id": "e7115b99-77ad-426a-bbca-301e613d8329",
   "metadata": {},
   "outputs": [
    {
     "name": "stdout",
     "output_type": "stream",
     "text": [
      "<class 'int'>\n"
     ]
    }
   ],
   "source": [
    "y = 232131433431\n",
    "print(type(x))"
   ]
  },
  {
   "cell_type": "code",
   "execution_count": 9,
   "id": "d7707819-d042-494e-8f89-a224d33f0652",
   "metadata": {},
   "outputs": [
    {
     "name": "stdout",
     "output_type": "stream",
     "text": [
      "<class 'int'>\n"
     ]
    }
   ],
   "source": [
    "z = -21\n",
    "print(type(z))"
   ]
  },
  {
   "cell_type": "markdown",
   "id": "76452728-2029-4f1b-a161-5eb6653f45a6",
   "metadata": {},
   "source": [
    "# 3.Explain about float with examples.\n",
    "# - Float is a number with decimal points or decimal values."
   ]
  },
  {
   "cell_type": "code",
   "execution_count": 7,
   "id": "065d34d6-e983-4945-9469-4c3a98331042",
   "metadata": {},
   "outputs": [
    {
     "name": "stdout",
     "output_type": "stream",
     "text": [
      "<class 'float'>\n"
     ]
    }
   ],
   "source": [
    "# Example for float.\n",
    "x = 3.1312312\n",
    "print(type(x))"
   ]
  },
  {
   "cell_type": "code",
   "execution_count": 11,
   "id": "9c3dc4d4-f44a-464f-b37d-7512c95d5c65",
   "metadata": {},
   "outputs": [
    {
     "name": "stdout",
     "output_type": "stream",
     "text": [
      "<class 'float'>\n"
     ]
    }
   ],
   "source": [
    "y = 123.13413431\n",
    "print(type(y))"
   ]
  },
  {
   "cell_type": "code",
   "execution_count": 15,
   "id": "c8884120-0800-48fe-b5ef-45256aae645e",
   "metadata": {},
   "outputs": [
    {
     "name": "stdout",
     "output_type": "stream",
     "text": [
      "<class 'float'>\n"
     ]
    }
   ],
   "source": [
    "z = 123.312312\n",
    "print(type(z))"
   ]
  },
  {
   "cell_type": "markdown",
   "id": "875afa9e-7d94-451c-962e-74afd1686b1a",
   "metadata": {},
   "source": [
    "# 4.Explain about complex with examples\n",
    "# - Complex numbers are the combination of real number and imaginary number whereas in real number can contain a Int or Float and imaginary number is denoted by \"j\"."
   ]
  },
  {
   "cell_type": "code",
   "execution_count": 17,
   "id": "33a17044-ff46-4061-b0fe-7b94c6459a35",
   "metadata": {},
   "outputs": [
    {
     "name": "stdout",
     "output_type": "stream",
     "text": [
      "<class 'complex'>\n"
     ]
    }
   ],
   "source": [
    "# Example for Complex.\n",
    "a = 3+1j\n",
    "print(type(a))"
   ]
  },
  {
   "cell_type": "code",
   "execution_count": 19,
   "id": "17913055-db0d-4988-9c15-217ced011e3b",
   "metadata": {},
   "outputs": [
    {
     "name": "stdout",
     "output_type": "stream",
     "text": [
      "<class 'complex'>\n"
     ]
    }
   ],
   "source": [
    "b = 2.23+0j\n",
    "print(type(b))"
   ]
  },
  {
   "cell_type": "code",
   "execution_count": 23,
   "id": "8096a8d8-dc45-4d40-8484-53420a1b4a5a",
   "metadata": {},
   "outputs": [
    {
     "name": "stdout",
     "output_type": "stream",
     "text": [
      "<class 'complex'>\n"
     ]
    }
   ],
   "source": [
    "c = 4+7j\n",
    "print(type(c))"
   ]
  }
 ],
 "metadata": {
  "kernelspec": {
   "display_name": "Python 3 (ipykernel)",
   "language": "python",
   "name": "python3"
  },
  "language_info": {
   "codemirror_mode": {
    "name": "ipython",
    "version": 3
   },
   "file_extension": ".py",
   "mimetype": "text/x-python",
   "name": "python",
   "nbconvert_exporter": "python",
   "pygments_lexer": "ipython3",
   "version": "3.12.4"
  }
 },
 "nbformat": 4,
 "nbformat_minor": 5
}
