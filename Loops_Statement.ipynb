{
 "cells": [
  {
   "cell_type": "markdown",
   "id": "579cbb17-98ae-4cf8-ac1b-3bf47793ec19",
   "metadata": {},
   "source": [
    "Loops : Loops are basically used to iterate the code \n",
    "Loops are classified into two types while loop and for loop\n",
    "\n",
    "There are again two methods to loops initializer and increment\n",
    "initializer : Initializer is where the value starts\n",
    "increment : It is the number of values to increase"
   ]
  },
  {
   "cell_type": "markdown",
   "id": "154d3c75-f041-4506-bd41-89718455c0f9",
   "metadata": {},
   "source": [
    "While loop: While loop is used to execute a block of code repeatedly until a given condition is satisfied. When the condition becomes false, the line immediately after the loop in the statement is executed.\n",
    "\n",
    "Syntax for while loop:\n",
    "\n",
    "While condition: #body of while loop"
   ]
  },
  {
   "cell_type": "code",
   "execution_count": 1,
   "id": "688f4581-9500-44bf-a6cb-9e791c5a1ae0",
   "metadata": {},
   "outputs": [
    {
     "name": "stdout",
     "output_type": "stream",
     "text": [
      "1\n",
      "2\n",
      "3\n",
      "4\n",
      "5\n",
      "6\n",
      "7\n",
      "8\n",
      "9\n",
      "10\n",
      "11\n",
      "12\n",
      "13\n",
      "14\n",
      "15\n",
      "16\n",
      "17\n",
      "18\n",
      "19\n",
      "20\n",
      "21\n"
     ]
    }
   ],
   "source": [
    "#while loop\n",
    "\n",
    "count = 0\n",
    "\n",
    "while count <= 20:\n",
    "    count = count + 1\n",
    "    print(count)"
   ]
  },
  {
   "cell_type": "code",
   "execution_count": 2,
   "id": "34afec86-5329-4a6b-81ed-e832b5351520",
   "metadata": {},
   "outputs": [
    {
     "name": "stdout",
     "output_type": "stream",
     "text": [
      "Hello\n",
      "Hello\n",
      "Hello\n"
     ]
    }
   ],
   "source": [
    "count = 0\n",
    "while count < 3:\n",
    "    count = count + 1\n",
    "    print(\"Hello\")"
   ]
  },
  {
   "cell_type": "code",
   "execution_count": 3,
   "id": "5b0fe730-ebd9-4974-a7ab-0ec7f5a0fbc8",
   "metadata": {},
   "outputs": [
    {
     "name": "stdout",
     "output_type": "stream",
     "text": [
      "20\n",
      "40\n",
      "60\n",
      "80\n",
      "100\n"
     ]
    }
   ],
   "source": [
    "#initializing the variable\n",
    "\n",
    "i = 20\n",
    "\n",
    "while i <= 100:\n",
    "    print(i)\n",
    "    i = i + 20 #increment"
   ]
  },
  {
   "cell_type": "code",
   "execution_count": 6,
   "id": "8d3b6f28-e42f-413d-8be1-4b55cd23630b",
   "metadata": {},
   "outputs": [
    {
     "name": "stdout",
     "output_type": "stream",
     "text": [
      "5\n",
      "6\n",
      "7\n",
      "8\n",
      "9\n",
      "10\n",
      "11\n",
      "12\n",
      "13\n",
      "14\n",
      "15\n",
      "16\n",
      "17\n",
      "18\n",
      "19\n",
      "20\n"
     ]
    }
   ],
   "source": [
    "#initializer\n",
    "\n",
    "a = 5\n",
    "\n",
    "while a <= 20:\n",
    "    print(a)\n",
    "    a = a + 1 #increment"
   ]
  },
  {
   "cell_type": "markdown",
   "id": "fc2b7149-a71e-43a6-a23e-1c969c81e97d",
   "metadata": {},
   "source": [
    "For loop: For loop is used to iterating over a sequence either a list, tuple, dic, string or range\n",
    "\n",
    "Syntax for a For loop is:\n",
    "\n",
    "for val in sequence: #statement\n",
    "Here, val access each item of the sequence on each iteration \n",
    "the loop continues until we reach the last item in the sequence"
   ]
  },
  {
   "cell_type": "code",
   "execution_count": 12,
   "id": "4ca4a56b-5998-4701-9166-497256e6c102",
   "metadata": {},
   "outputs": [
    {
     "name": "stdout",
     "output_type": "stream",
     "text": [
      "<class 'str'>\n",
      "H\n",
      "e\n",
      "l\n",
      "l\n",
      "o\n",
      " \n",
      "p\n",
      "y\n",
      "t\n",
      "h\n",
      "o\n",
      "n\n"
     ]
    }
   ],
   "source": [
    "#Examples for For loop:\n",
    "\n",
    "b = \"Hello python\"\n",
    "print(type(b))\n",
    "\n",
    "for z in b:\n",
    "    print(z)"
   ]
  },
  {
   "cell_type": "code",
   "execution_count": 14,
   "id": "8dad662b-2ac5-4db3-ad2b-9f0fd3d53e08",
   "metadata": {},
   "outputs": [
    {
     "name": "stdout",
     "output_type": "stream",
     "text": [
      "<class 'list'>\n",
      "X\n",
      "Y\n",
      "Z\n"
     ]
    }
   ],
   "source": [
    "#list data:\n",
    "\n",
    "lst = [\"X\",\"Y\",\"Z\"]\n",
    "print(type(lst))\n",
    "\n",
    "for y in lst:\n",
    "    print(y)"
   ]
  },
  {
   "cell_type": "code",
   "execution_count": 16,
   "id": "82104dfd-3852-48c1-b157-f77814ce97a6",
   "metadata": {},
   "outputs": [
    {
     "name": "stdout",
     "output_type": "stream",
     "text": [
      "<class 'tuple'>\n",
      "A\n",
      "B\n",
      "C\n"
     ]
    }
   ],
   "source": [
    "#tuple data:\n",
    "\n",
    "tup = (\"A\",\"B\",\"C\")\n",
    "print(type(tup))\n",
    "\n",
    "for x in tup:\n",
    "    print(x)"
   ]
  },
  {
   "cell_type": "code",
   "execution_count": 29,
   "id": "67c914f2-f1f9-4e88-927d-32ee54c9796c",
   "metadata": {},
   "outputs": [
    {
     "name": "stdout",
     "output_type": "stream",
     "text": [
      "<class 'dict'>\n",
      "name sami\n",
      "location hyderabad\n",
      "course python\n"
     ]
    }
   ],
   "source": [
    "#Dic data:\n",
    "\n",
    "dic = {'name':'sami','location':'hyderabad','course':'python'}\n",
    "print(type(dic))\n",
    "\n",
    "for key,value in dic.items():\n",
    "    print(key,value)"
   ]
  }
 ],
 "metadata": {
  "kernelspec": {
   "display_name": "Python 3 (ipykernel)",
   "language": "python",
   "name": "python3"
  },
  "language_info": {
   "codemirror_mode": {
    "name": "ipython",
    "version": 3
   },
   "file_extension": ".py",
   "mimetype": "text/x-python",
   "name": "python",
   "nbconvert_exporter": "python",
   "pygments_lexer": "ipython3",
   "version": "3.12.4"
  }
 },
 "nbformat": 4,
 "nbformat_minor": 5
}
