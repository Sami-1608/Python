{
 "cells": [
  {
   "cell_type": "markdown",
   "id": "e4e8e340-ddf2-48c0-a173-0080aedbfc28",
   "metadata": {},
   "source": [
    "Conditional Statements: Conditional Statements are statements in Python that provide a choice for the control flow based on a condition. It means that the control flow of the Python program will be decided based on the outcome of the condition.\n",
    "\n",
    "There are three types of conditional statement: if,else,ifelse (or) elseif\n",
    "\n",
    "1. If Conditional Statement in Python\n",
    "\n",
    "The if statement is a conditional statement in Python used to determine whether a block of code will be executed. If the program finds the condition defined in the if statement true, it will execute the code block inside the if statement.\n",
    "\n",
    "Syntax of If Statement:\n",
    "\n",
    "if condition:\n",
    "    # Statements to execute if\n",
    "    # condition is true\n",
    "\n",
    "2. If else Conditional Statements in Python\n",
    "   \n",
    "As discussed above, the if statement executes the code block when the condition is true. Similarly, the else statement works in conjuncture with the if statement to execute a code block when the defined if condition is false.\n",
    "\n",
    "if condition:\n",
    "        # execute code if condition is true\n",
    "else:\n",
    "        # execute code if condition if False\n",
    "\n",
    "3. if-elif-else ladder\n",
    "The elif statement is used to check for multiple conditions and execute the code block within if any of the conditions are evaluated to be true.\n",
    "\n",
    "The elif statement is similar to the else statement in that it is optional. Still, unlike the else statement, multiple elif statements can be in a block of code following an if statement.\n",
    "\n",
    "if condition1:\n",
    "    # execute this statement\n",
    "elif condition2:\n",
    "    # execute this statement\n",
    "    ..\n",
    "    ..\n",
    "else:\n",
    "    # if non of the above conditions evaluate to True execute this statement"
   ]
  },
  {
   "cell_type": "code",
   "execution_count": 3,
   "id": "d54e6c3f-9c7d-4e17-8792-b09b7deca44e",
   "metadata": {},
   "outputs": [
    {
     "name": "stdout",
     "output_type": "stream",
     "text": [
      "a is equal to 20\n"
     ]
    }
   ],
   "source": [
    "#Examples:\n",
    "#if\n",
    "\n",
    "a = 20\n",
    "\n",
    "if a>0:\n",
    "    print(\"a is equal to 20\")"
   ]
  },
  {
   "cell_type": "code",
   "execution_count": 41,
   "id": "4dba4d21-65b2-49c8-92b4-7d6896bc6bcd",
   "metadata": {},
   "outputs": [
    {
     "name": "stdout",
     "output_type": "stream",
     "text": [
      "b is greater than a\n"
     ]
    }
   ],
   "source": [
    "#else\n",
    "\n",
    "a = 30\n",
    "b = 400\n",
    "\n",
    "if a>b:\n",
    "    print(\"a is greater than b\")\n",
    "else:\n",
    "   print(\"b is greater than a\")"
   ]
  },
  {
   "cell_type": "code",
   "execution_count": 47,
   "id": "80da54d5-ae93-40d1-8468-4f98d25d785f",
   "metadata": {},
   "outputs": [
    {
     "name": "stdout",
     "output_type": "stream",
     "text": [
      "z is maximum\n"
     ]
    }
   ],
   "source": [
    "#elif\n",
    "#x,y,z find the maximum value \n",
    "\n",
    "x = 20\n",
    "y = 30\n",
    "z = 50\n",
    "\n",
    "if x>y and x>z:\n",
    "    print(\"x is maximum\")\n",
    "elif y>x and y>z:\n",
    "    print(\"y is maximum\")\n",
    "else:\n",
    "    print(\"z is maximum\")"
   ]
  },
  {
   "cell_type": "code",
   "execution_count": 3,
   "id": "23f598c1-d7c9-490f-b404-61542a47e47c",
   "metadata": {},
   "outputs": [
    {
     "name": "stdin",
     "output_type": "stream",
     "text": [
      "Enter year:  2020\n"
     ]
    },
    {
     "name": "stdout",
     "output_type": "stream",
     "text": [
      "it's a leap year\n"
     ]
    }
   ],
   "source": [
    "#write a python program to check given year is leap or not.\n",
    "\n",
    "year = int(input(\"Enter year: \"))\n",
    "\n",
    "if (year%4==0):\n",
    "    print(\"it's a leap year\")\n",
    "else:\n",
    "    print(\"it's not a leap year\")"
   ]
  },
  {
   "cell_type": "code",
   "execution_count": 11,
   "id": "33694ffc-af89-473f-8f12-0d05c509970d",
   "metadata": {},
   "outputs": [
    {
     "name": "stdin",
     "output_type": "stream",
     "text": [
      "Enter your number:  4\n"
     ]
    },
    {
     "name": "stdout",
     "output_type": "stream",
     "text": [
      "It is an even number\n"
     ]
    }
   ],
   "source": [
    "#write a python program to find a given number is even or odd\n",
    "\n",
    "num = int(input(\"Enter your number: \"))\n",
    "\n",
    "if (num % 2 == 0):\n",
    "    print(\"It is an even number\")\n",
    "else:\n",
    "    print(\"It is an odd number\")"
   ]
  },
  {
   "cell_type": "code",
   "execution_count": 23,
   "id": "8b6a800d-6623-4f45-90fd-f0fde69f9d73",
   "metadata": {},
   "outputs": [
    {
     "name": "stdout",
     "output_type": "stream",
     "text": [
      "The list is not empty\n"
     ]
    }
   ],
   "source": [
    "#write a python program to check if a list is empty or not\n",
    "\n",
    "a = [1,2]\n",
    "if not a:\n",
    "    print(\"The list is empty\")\n",
    "else:\n",
    "    print(\"The list is not empty\")"
   ]
  },
  {
   "cell_type": "code",
   "execution_count": 31,
   "id": "30d16e20-2f09-4e53-b1b2-1d4883eb6e52",
   "metadata": {},
   "outputs": [
    {
     "name": "stdin",
     "output_type": "stream",
     "text": [
      "Enter the marks:  90\n"
     ]
    },
    {
     "name": "stdout",
     "output_type": "stream",
     "text": [
      "A\n"
     ]
    }
   ],
   "source": [
    "#write a python code to calculate grade of a student\n",
    "#if the student marks is greater than 90 print 'A'\n",
    "#if the student marks is greater than 80 and less than 90 print 'B'\n",
    "#if the student marks is greater than 70 and less than 80 print 'C'\n",
    "#if the student marks is greater than 60 and less than 70 print 'D'\n",
    "#if the student marks is greater than 50 and less than 60 print 'E'\n",
    "#if the student marks is less than 50 print 'FAIL'\n",
    "\n",
    "\n",
    "student = int(input(\"Enter the marks: \"))\n",
    "\n",
    "if student >= 90:\n",
    "    print(\"A\")\n",
    "elif student > 80 and student < 90:\n",
    "    print(\"B\")\n",
    "elif student > 70 and student < 80:\n",
    "    print(\"C\")\n",
    "elif student > 60 and student < 70:\n",
    "    print(\"D\")\n",
    "elif student > 50 and student < 60:\n",
    "    print(\"E\")\n",
    "else:\n",
    "    print(\"Fail\")"
   ]
  },
  {
   "cell_type": "code",
   "execution_count": null,
   "id": "5b5f7d95-0bfa-4998-97cb-66ec1fb3c2d0",
   "metadata": {},
   "outputs": [],
   "source": [
    "#check whether the given word is a palindrome or not\n",
    "#write a python program to find the smalled among the three numbers\n",
    "#find the second largest number in a list\n",
    "#calculate BMI and categorize it #underweight #normalweight #overweight\n",
    "#write a python program to check vote eligibility \n",
    "#write a python program to find the person belongs to which type of group\n",
    "#School group, workgroup, retire group\n",
    "#     <22       >22 & <50   >50\n"
   ]
  },
  {
   "cell_type": "code",
   "execution_count": 37,
   "id": "bca3fa96-1eeb-4b52-bff7-4dc315e6f600",
   "metadata": {},
   "outputs": [
    {
     "name": "stdout",
     "output_type": "stream",
     "text": [
      "c is smallest\n"
     ]
    }
   ],
   "source": [
    "#write a python program to find the smallest among the three numbers\n",
    "\n",
    "a = 20\n",
    "b = 30\n",
    "c = 10\n",
    "\n",
    "if a <= b and a <= c:\n",
    "    print(\"a is smallest\")\n",
    "elif b <= a and b <= c:\n",
    "    print(\"b is smallest\")\n",
    "else:\n",
    "    print(\"c is smallest\")\n"
   ]
  },
  {
   "cell_type": "code",
   "execution_count": 49,
   "id": "272ef4ca-7695-48d5-b0f4-162c6566dd27",
   "metadata": {},
   "outputs": [
    {
     "name": "stdout",
     "output_type": "stream",
     "text": [
      "[1, 9, 22, 22, 43, 82, 89, 123, 319, 445]\n",
      "319\n"
     ]
    }
   ],
   "source": [
    "#find the second largest number in a list\n",
    "\n",
    "num = [1,22,43,123,22,9,89,82,445,319]\n",
    "#we first sort the all the numbers in the list\n",
    "num.sort()\n",
    "print(num)\n",
    "\n",
    "#printing out with the help of index merthod\n",
    "print(num[-2])"
   ]
  },
  {
   "cell_type": "code",
   "execution_count": null,
   "id": "3899dfdb-9430-4d6d-84a1-b7fe747f56a8",
   "metadata": {},
   "outputs": [],
   "source": []
  }
 ],
 "metadata": {
  "kernelspec": {
   "display_name": "Python 3 (ipykernel)",
   "language": "python",
   "name": "python3"
  },
  "language_info": {
   "codemirror_mode": {
    "name": "ipython",
    "version": 3
   },
   "file_extension": ".py",
   "mimetype": "text/x-python",
   "name": "python",
   "nbconvert_exporter": "python",
   "pygments_lexer": "ipython3",
   "version": "3.12.4"
  }
 },
 "nbformat": 4,
 "nbformat_minor": 5
}
