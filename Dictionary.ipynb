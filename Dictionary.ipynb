{
 "cells": [
  {
   "cell_type": "markdown",
   "id": "61d4596b-9fa6-48c8-ab39-10ef001b3690",
   "metadata": {},
   "source": [
    "1) Define Dictionary.\n",
    "   Dictionary is data structure which allows you to store and retrieve data in a key-value pair format. It is mutable which means you can\n",
    "   modify it. It is simply mapping of keys and values.\n",
    "\n",
    "   They are represented using curly{} brackets which consist of key value pairs seperated by a colons( , )\n",
    "   Syntax for Dictionary is: a = {key : value, key : value}\n",
    "                            A pair of key and value is known as Item\n",
    "   In dictionary there's no indexing and slicing of the elements."
   ]
  },
  {
   "cell_type": "markdown",
   "id": "e51f7364-7cfd-4a66-99eb-cf6d5de4d051",
   "metadata": {},
   "source": [
    "2) Create examples for all types of dictionaries.\n",
    "   Dictionary with key-valued pairs\n",
    "   Dictionary with mixed data type"
   ]
  },
  {
   "cell_type": "code",
   "execution_count": 3,
   "id": "8b1a7d7f-4765-49b9-bd94-3026aa70491b",
   "metadata": {},
   "outputs": [
    {
     "name": "stdout",
     "output_type": "stream",
     "text": [
      "{'name': 'sami', 'age': 28, 'location': 'Hyderabad'}\n",
      "{'organisation': 'Amazon', 'desig': 'ATL', 'Domain': 'Data Analyst', 'Package in cr': 4}\n"
     ]
    }
   ],
   "source": [
    "#EXamples:\n",
    "#Empty Dictionary = { }\n",
    "#Dictionary with key-value pairs:\n",
    "\n",
    "student = {'name':'sami', 'age':28, 'location':'Hyderabad'}\n",
    "print(student)\n",
    "\n",
    "data = {'organisation':'Amazon', 'desig':'ATL', 'Domain':'Data Analyst', 'Package in cr':4}\n",
    "print(data)"
   ]
  },
  {
   "cell_type": "code",
   "execution_count": 23,
   "id": "30342e6e-6b0d-4766-adec-105f38b4bded",
   "metadata": {},
   "outputs": [
    {
     "name": "stdout",
     "output_type": "stream",
     "text": [
      "{'name': 'sami', 'age': 28, 'location': 'Hyderabad', 'grades': [85, 22, 62]}\n"
     ]
    }
   ],
   "source": [
    "#Dictionary with mixed data type:\n",
    "\n",
    "mixed_data = {\n",
    "    'name':'sami',\n",
    "    'age':28,\n",
    "    'location':'Hyderabad',\n",
    "    'grades':[85,22,62]\n",
    "}\n",
    "print(mixed_data)"
   ]
  },
  {
   "cell_type": "code",
   "execution_count": 43,
   "id": "620154d7-3756-4a5b-a281-b8f29d7dd878",
   "metadata": {},
   "outputs": [
    {
     "name": "stdout",
     "output_type": "stream",
     "text": [
      "sami\n",
      "28\n",
      "Data Analyst\n",
      "sami\n",
      "[85, 22, 62]\n"
     ]
    }
   ],
   "source": [
    "#Accessing values: You can access values in the dictionary using keys\n",
    "\n",
    "print(student['name'])\n",
    "print(student['age'])\n",
    "print(data['Domain'])\n",
    "print(mixed_data['name'])\n",
    "print(mixed_data['grades'])"
   ]
  },
  {
   "cell_type": "code",
   "execution_count": 57,
   "id": "d17f05a5-6a9c-44d6-93ed-26c179c4df09",
   "metadata": {},
   "outputs": [
    {
     "name": "stdout",
     "output_type": "stream",
     "text": [
      "{'name': 'Mohammed Sami', 'age': 28, 'location': 'Hyd', 'grades': (89, 65, 99)}\n",
      "{'name': 'Mohammed Sami', 'age': 28, 'location': 'Hyd', 'grades': (89, 65, 99)}\n",
      "{'organisation': 'Amazon', 'desig': 'TL', 'Domain': 'Data Analyst', 'Package in cr': 4, 'location': 'Hyderabad, TG'}\n",
      "{'name': 'Mohammed Sami', 'age': 28, 'location': 'Hyd', 'grades': [89, 65, 99]}\n",
      "{'organisation': 'Amazon', 'desig': 'TL', 'Domain': 'Data Analyst', 'Package in cr': 4, 'location': 'Hyderabad, TG'}\n",
      "{'name': 'sami', 'age': 28, 'location': 'Hyderabad', 'grades': [85, 22, 62], 'gender': 'Male'}\n"
     ]
    }
   ],
   "source": [
    "#Modifying and adding values\n",
    "\n",
    "student['name'] = 'Mohammed Sami'\n",
    "print(student)\n",
    "student['location'] = 'Hyd'\n",
    "print(student)\n",
    "data['desig'] = 'TL'\n",
    "print(data)\n",
    "\n",
    "#Adding a new value \n",
    "\n",
    "student['grades'] = [89,65,99]\n",
    "print(student)\n",
    "data['location'] = 'Hyderabad, TG'\n",
    "print(data)\n",
    "\n",
    "mixed_data['gender'] = 'Male'\n",
    "print(mixed_data)"
   ]
  },
  {
   "cell_type": "markdown",
   "id": "3cb98db8-37b3-42e1-85e5-f2fe5c1676b8",
   "metadata": {},
   "source": [
    "3) Apply methods:\n",
    "   There are multiple methods in dictionary :\n",
    "   get()\n",
    "   keys()\n",
    "   values()\n",
    "   items()\n",
    "   pop()\n",
    "   pop item()\n",
    "   update()"
   ]
  },
  {
   "cell_type": "code",
   "execution_count": 85,
   "id": "40809093-1eb7-473a-b800-ee40b4f639ec",
   "metadata": {},
   "outputs": [
    {
     "name": "stdout",
     "output_type": "stream",
     "text": [
      "{'name': 'Mohammed Sami', 'age': 28, 'location': 'Hyd', 'grades': [89, 65, 99]}\n",
      "no grade\n",
      "Hyd\n",
      "Mohammed Sami\n",
      "no name\n",
      "Amazon\n",
      "[85, 22, 62]\n"
     ]
    }
   ],
   "source": [
    "#Examples for each method\n",
    "#get() = Returns the value for a specific key. If the value is present in a key it shows the output\n",
    "\n",
    "g = student.get('grade','no grade')\n",
    "print(student)\n",
    "print(g)\n",
    "l = student.get('location','no location')\n",
    "print(l)\n",
    "n = student.get('name', 'no name')\n",
    "print(n)\n",
    "\n",
    "gg = data.get('name', 'no name')\n",
    "print(gg)\n",
    "o = data.get('organisation', 'not working')\n",
    "print(o)\n",
    "\n",
    "m = mixed_data.get('grades', 'no grades')\n",
    "print(m)"
   ]
  },
  {
   "cell_type": "code",
   "execution_count": 91,
   "id": "4fb9e7a2-cfca-412f-983c-5f39f5c28258",
   "metadata": {},
   "outputs": [
    {
     "name": "stdout",
     "output_type": "stream",
     "text": [
      "dict_keys(['name', 'age', 'location', 'grades'])\n",
      "dict_keys(['organisation', 'desig', 'Domain', 'Package in cr', 'location'])\n",
      "dict_keys(['name', 'age', 'location', 'grades', 'gender'])\n"
     ]
    }
   ],
   "source": [
    "#keys: Returns a view of all keys in a dictionary \n",
    "\n",
    "student_keys = student.keys()\n",
    "print(student_keys)\n",
    "stdkeys = data.keys()\n",
    "print(stdkeys)\n",
    "mkey = mixed_data.keys()\n",
    "print(mkey)"
   ]
  },
  {
   "cell_type": "code",
   "execution_count": 97,
   "id": "3d303f68-8366-4fbb-9f6c-77d113165dc5",
   "metadata": {},
   "outputs": [
    {
     "name": "stdout",
     "output_type": "stream",
     "text": [
      "dict_values(['Mohammed Sami', 28, 'Hyd', [89, 65, 99]])\n",
      "dict_values(['Amazon', 'TL', 'Data Analyst', 4, 'Hyderabad, TG'])\n",
      "dict_values(['sami', 28, 'Hyderabad', [85, 22, 62], 'Male'])\n"
     ]
    }
   ],
   "source": [
    "#values : returns a view of all the values in the dictionary \n",
    "\n",
    "student_values = student.values()\n",
    "print(student_values)\n",
    "data_values = data.values()\n",
    "print(data_values)\n",
    "mvalues = mixed_data.values()\n",
    "print(mvalues)"
   ]
  },
  {
   "cell_type": "code",
   "execution_count": 103,
   "id": "89aa9c62-7706-4805-a167-009c68454002",
   "metadata": {},
   "outputs": [
    {
     "name": "stdout",
     "output_type": "stream",
     "text": [
      "dict_items([('name', 'Mohammed Sami'), ('age', 28), ('location', 'Hyd'), ('grades', [89, 65, 99])])\n",
      "dict_items([('organisation', 'Amazon'), ('desig', 'TL'), ('Domain', 'Data Analyst'), ('Package in cr', 4), ('location', 'Hyderabad, TG')])\n",
      "dict_items([('name', 'sami'), ('age', 28), ('location', 'Hyderabad'), ('grades', [85, 22, 62]), ('gender', 'Male')])\n"
     ]
    }
   ],
   "source": [
    "#Items: returns the view of all key-value pairs\n",
    "\n",
    "stitems = student.items()\n",
    "print(stitems)\n",
    "data_item = data.items()\n",
    "print(data_item)\n",
    "m_item = mixed_data.items()\n",
    "print(m_item)"
   ]
  },
  {
   "cell_type": "code",
   "execution_count": 119,
   "id": "b57ef47d-fa90-4129-86e6-8b42ac1ebf88",
   "metadata": {},
   "outputs": [
    {
     "name": "stdout",
     "output_type": "stream",
     "text": [
      "{'age': 28, 'location': 'Hyd'}\n"
     ]
    }
   ],
   "source": [
    "#pop: removes and returns the value for a specific key\n",
    "\n",
    "print(student)"
   ]
  },
  {
   "cell_type": "code",
   "execution_count": 127,
   "id": "8f1eabeb-9547-42c8-99e9-52c118a46fb3",
   "metadata": {},
   "outputs": [
    {
     "name": "stdout",
     "output_type": "stream",
     "text": [
      "{'organisation': 'Amazon', 'Domain': 'Data Analyst', 'Package in cr': 4, 'location': 'Hyderabad, TG'}\n"
     ]
    }
   ],
   "source": [
    "\n",
    "print(data)"
   ]
  },
  {
   "cell_type": "code",
   "execution_count": 133,
   "id": "3646f859-5a97-4896-8349-9489d73667bd",
   "metadata": {},
   "outputs": [
    {
     "name": "stdout",
     "output_type": "stream",
     "text": [
      "('location', 'Hyderabad')\n",
      "{'name': 'sami', 'age': 28}\n"
     ]
    }
   ],
   "source": [
    "#pop item: removes and returns the last key-value pair\n",
    "\n",
    "c = mixed_data.popitem()\n",
    "print(c)\n",
    "print(mixed_data)"
   ]
  },
  {
   "cell_type": "code",
   "execution_count": null,
   "id": "90afa6b6-5f8e-445d-831a-a808c9851a33",
   "metadata": {},
   "outputs": [],
   "source": [
    "#update: Update the dictionary with elements from another dictionary \n"
   ]
  }
 ],
 "metadata": {
  "kernelspec": {
   "display_name": "Python 3 (ipykernel)",
   "language": "python",
   "name": "python3"
  },
  "language_info": {
   "codemirror_mode": {
    "name": "ipython",
    "version": 3
   },
   "file_extension": ".py",
   "mimetype": "text/x-python",
   "name": "python",
   "nbconvert_exporter": "python",
   "pygments_lexer": "ipython3",
   "version": "3.12.4"
  }
 },
 "nbformat": 4,
 "nbformat_minor": 5
}
