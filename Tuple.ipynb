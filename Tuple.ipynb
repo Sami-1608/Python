{
 "cells": [
  {
   "cell_type": "markdown",
   "id": "105c6288-a954-4120-a5ab-a896ad206362",
   "metadata": {},
   "source": [
    "1) Define Tuple.\n",
    "   Tuple is a data type which represents ordered elements. It is a immuatable sequence of elements.\n",
    "   It is similar to list but the key difference is tuples cannot be modified once they are created.\n",
    "   Tuples are represented using paranthesis() and the elements are seperated using commas.\n",
    "   Tuples are Immutable which means once a tuple is created it cannot be change or modify, add/remove elements."
   ]
  },
  {
   "cell_type": "code",
   "execution_count": 21,
   "id": "87dfb62d-8815-40cc-8eec-2857c2f6787c",
   "metadata": {},
   "outputs": [
    {
     "name": "stdout",
     "output_type": "stream",
     "text": [
      "<class 'tuple'>\n",
      "('sami', 'sai', 'ali')\n",
      "<class 'tuple'>\n",
      "<class 'tuple'>\n",
      "<class 'tuple'>\n",
      "<class 'tuple'>\n"
     ]
    }
   ],
   "source": [
    "#Examples for tuples\n",
    "\n",
    "empty_tuple = ()\n",
    "\n",
    "cars = (\"mercedes\", \"BMW\", \"volvo\")\n",
    "print(type(cars))\n",
    "\n",
    "name = (\"sami\", \"sai\", \"ali\")\n",
    "print(name)\n",
    "print(type(name))\n",
    "\n",
    "#You can also create a mixed type of tuple including int,float,boolean\n",
    "\n",
    "data = (\"sami\", 28, 92.7, \"True\")\n",
    "print(type(data))\n",
    "\n",
    "#Single-element tuple:\n",
    "\n",
    "a = (42, )\n",
    "print(type(a))\n",
    "\n",
    "b = (32,)\n",
    "print(type(b))\n",
    "\n",
    "#If you don't add a comma after the elements it will be considered as integer. The rule of tuple is to put comma after the element"
   ]
  },
  {
   "cell_type": "markdown",
   "id": "fc16910c-ad0c-47b1-86a5-fbd62583c575",
   "metadata": {},
   "source": [
    "2) Accessing Elements: Tuple support Indexing and Slicing."
   ]
  },
  {
   "cell_type": "code",
   "execution_count": 31,
   "id": "50627bf8-d315-429d-b8e6-e8d93a4df42d",
   "metadata": {},
   "outputs": [
    {
     "name": "stdout",
     "output_type": "stream",
     "text": [
      "Nissan skyline GTR30\n",
      "Nissan skyline GTR30\n",
      "('BMW E30', 'Nissan skyline GTR30', 'Volvo S60, Mini cooper- Country man')\n",
      "('Mercedes E-220', 'BMW E30')\n"
     ]
    }
   ],
   "source": [
    "#Accessing tuples using Indexing and Slicing\n",
    "\n",
    "cars = (\"Mercedes E-220\", \"BMW E30\", \"Nissan skyline GTR30\", \"Volvo S60, Mini cooper- Country man\")\n",
    "print(cars[2])\n",
    "print(cars[-2])\n",
    "\n",
    "print(cars[1: ])\n",
    "print(cars[ :-2])"
   ]
  },
  {
   "cell_type": "markdown",
   "id": "8774bba7-d8fe-46eb-ab1e-8e8f8a865f3b",
   "metadata": {},
   "source": [
    "3) Tuple operations: Concatenation and repetition\n",
    "   Concatenation: Combining two tuples.\n",
    "   Repetition: Repeating a tuple"
   ]
  },
  {
   "cell_type": "code",
   "execution_count": 41,
   "id": "b83af008-e006-4674-97dc-8e87d2865a9b",
   "metadata": {},
   "outputs": [
    {
     "name": "stdout",
     "output_type": "stream",
     "text": [
      "(1, 2, 3, 4, 5, 10, 9, 8, 7, 6)\n",
      "('Honda CBR-650', 'Aprilla', 'scrambller', 'V6', 'V4', 'Ferrari-v12', 'V6 twin turbo')\n",
      "(1, 2, 3, 4, 5, 1, 2, 3, 4, 5, 1, 2, 3, 4, 5, 1, 2, 3, 4, 5, 1, 2, 3, 4, 5, 1, 2, 3, 4, 5, 1, 2, 3, 4, 5, 1, 2, 3, 4, 5, 1, 2, 3, 4, 5, 1, 2, 3, 4, 5, 1, 2, 3, 4, 5, 1, 2, 3, 4, 5, 1, 2, 3, 4, 5, 1, 2, 3, 4, 5, 1, 2, 3, 4, 5, 1, 2, 3, 4, 5, 1, 2, 3, 4, 5, 1, 2, 3, 4, 5, 1, 2, 3, 4, 5, 1, 2, 3, 4, 5)\n",
      "('Honda CBR-650', 'Aprilla', 'scrambller', 'Honda CBR-650', 'Aprilla', 'scrambller')\n"
     ]
    }
   ],
   "source": [
    "#Examples for tuple operations:\n",
    "#Concatenation\n",
    "\n",
    "a = (1,2,3,4,5)\n",
    "b = (10,9,8,7,6)\n",
    "c = a+b\n",
    "print(c)\n",
    "\n",
    "bikes = (\"Honda CBR-650\", \"Aprilla\", \"scrambller\")\n",
    "car_engines = (\"V6\", \"V4\", \"Ferrari-v12\", \"V6 twin turbo\")\n",
    "print(bikes+car_engines)\n",
    "\n",
    "#Repetition\n",
    "\n",
    "d = a*20\n",
    "print(d)\n",
    "\n",
    "print(bikes * 2)"
   ]
  },
  {
   "cell_type": "markdown",
   "id": "fac707f3-357d-42e4-b1a7-6cd797c55e61",
   "metadata": {},
   "source": [
    "4) Define methods in tuple.\n",
    "   Tuples don't have lot of methods due to it's immutability."
   ]
  },
  {
   "cell_type": "code",
   "execution_count": 3,
   "id": "04be56ca-edff-4cbd-958c-f1b75c28cadc",
   "metadata": {},
   "outputs": [
    {
     "name": "stdout",
     "output_type": "stream",
     "text": [
      "2\n",
      "3\n"
     ]
    }
   ],
   "source": [
    "#methods:\n",
    "\n",
    "#count: It counts the value of individual number presents (or) returns the number of occurence of a specified value\n",
    "\n",
    "num = (1,2,3,1,4,5,6,1,23,2,25)\n",
    "a = num.count(2)\n",
    "print(a)\n",
    "\n",
    "b = num.count(1)\n",
    "print(b)"
   ]
  },
  {
   "cell_type": "code",
   "execution_count": 9,
   "id": "904df7ec-df28-4284-9d2d-5b37fd378c22",
   "metadata": {},
   "outputs": [
    {
     "name": "stdout",
     "output_type": "stream",
     "text": [
      "2\n",
      "5\n"
     ]
    }
   ],
   "source": [
    "#Index: It identifies the position of a particular value (or) returns the index of first occurence of a specified value\n",
    "\n",
    "num = (1,2,3,1,4,5,6,1,23,2,25)\n",
    "c = num.index(3)\n",
    "print(c)\n",
    "\n",
    "d = num.index(5)\n",
    "print(d)"
   ]
  }
 ],
 "metadata": {
  "kernelspec": {
   "display_name": "Python 3 (ipykernel)",
   "language": "python",
   "name": "python3"
  },
  "language_info": {
   "codemirror_mode": {
    "name": "ipython",
    "version": 3
   },
   "file_extension": ".py",
   "mimetype": "text/x-python",
   "name": "python",
   "nbconvert_exporter": "python",
   "pygments_lexer": "ipython3",
   "version": "3.12.4"
  }
 },
 "nbformat": 4,
 "nbformat_minor": 5
}
