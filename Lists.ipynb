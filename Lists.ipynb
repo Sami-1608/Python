{
 "cells": [
  {
   "cell_type": "markdown",
   "id": "effc0d15-2f58-4e8c-956c-5d7ea774abb6",
   "metadata": {},
   "source": [
    "1) Define about list in theoretical way.\n",
    "   List is a common data type. List is a collection of Elements, values and items.\n",
    "   List is represented y [ ] and is separated by comma. List is mutable.\n",
    "   Mutable means it can be modified, change and update.\n",
    "\n",
    "   In list each element is ordered and each element in list is associated with a number which is called index.\n",
    "   We have two types of index positive which ranges from 0 to infinity and it starts from left to right and negative index which ranges from\n",
    "   -1 and so on which starts from right to left.\n",
    "   List can store multiple data types\n",
    "   Index can acces one element at a time\n",
    "\n",
    "   Slicing of list: Slicing is used to access multiple elements in a single line of code.\n",
    "   Syntax for slicing is [start_index : end_index]..... end index(n-1) # (n-1) is for end index because index starts from 0\n",
    "   You can access multiple elements by using slicing method\n",
    "\n",
    "   Example: Suppose you have 100 elements and you have to access first 50 then you can put up ending index which is [ :50 ]\n",
    "   if you want the next 50 you can put up the starting index which is [ 51: ]\n",
    "\n",
    "   List has two operations: Concatenation and repetition\n",
    "   Concatenation add one or more things. It is similar to union which combines both or more list of items\n",
    "   Repetition repeats the elements as much as you like\n",
    "\n",
    "   You can also change the list of elements with the help of index and slicing\n",
    "\n",
    "   List has multiple methods which we will be adding below later."
   ]
  },
  {
   "cell_type": "markdown",
   "id": "c8f4c086-9f79-4d3f-ba56-87a45d285447",
   "metadata": {},
   "source": [
    "2) Create 10 examples storing different data types."
   ]
  },
  {
   "cell_type": "code",
   "execution_count": 15,
   "id": "ef555ff1-052a-4ba9-bbeb-18dac271d12e",
   "metadata": {},
   "outputs": [
    {
     "name": "stdout",
     "output_type": "stream",
     "text": [
      "<class 'list'>\n",
      "<class 'list'>\n"
     ]
    }
   ],
   "source": [
    "#Creating empty data list\n",
    "emptylist = [ ]\n",
    "\n",
    "#Creating list with elements\n",
    "\n",
    "num = [1,2,3,4,5,6]\n",
    "car = [\"Mercedes\", \"BMW\", \"Volvo\"]\n",
    "fruits = [\"Apple\", \"Banana\", \"Orange\"]\n",
    "num_int = [221,213,13214,1414]\n",
    "num_float = [1.231, 312.321, 12.21]\n",
    "mixed = [12, 2, \"python\", 1.2321, True]\n",
    "\n",
    "print(type(mixed))\n",
    "print(type(num_int))"
   ]
  },
  {
   "cell_type": "markdown",
   "id": "e8192986-744a-4165-bdbe-b2212343ecba",
   "metadata": {},
   "source": [
    "3) Create a list with 15 elements and you need to access each and every element from list both positive and negative."
   ]
  },
  {
   "cell_type": "code",
   "execution_count": 27,
   "id": "9c9f4ef7-c4c9-47c5-8a89-24151d1e1692",
   "metadata": {},
   "outputs": [
    {
     "name": "stdout",
     "output_type": "stream",
     "text": [
      "1\n",
      "2\n",
      "3\n",
      "4\n",
      "5\n",
      "6\n",
      "7\n",
      "8\n",
      "9\n",
      "10\n",
      "11\n",
      "12\n",
      "13\n",
      "14\n",
      "15\n"
     ]
    }
   ],
   "source": [
    "num = [1,2,3,4,5,6,7,8,9,10,11,12,13,14,15]\n",
    "\n",
    "#accessing items based on index both positive and negative \n",
    "\n",
    "print(num[0])\n",
    "print(num[1])\n",
    "print(num[2])\n",
    "print(num[3])\n",
    "print(num[4])\n",
    "print(num[5])\n",
    "print(num[6])\n",
    "print(num[7])\n",
    "print(num[8])\n",
    "print(num[9])\n",
    "print(num[10])\n",
    "print(num[11])\n",
    "print(num[12])\n",
    "print(num[13])\n",
    "print(num[14])\n"
   ]
  },
  {
   "cell_type": "code",
   "execution_count": 35,
   "id": "6e3f1ecf-634a-45a3-a142-304fda4e0d7b",
   "metadata": {},
   "outputs": [
    {
     "name": "stdout",
     "output_type": "stream",
     "text": [
      "15\n",
      "14\n",
      "13\n",
      "12\n",
      "11\n",
      "10\n",
      "9\n",
      "8\n",
      "7\n",
      "6\n",
      "5\n",
      "4\n",
      "3\n",
      "2\n",
      "1\n"
     ]
    }
   ],
   "source": [
    "print(num[-1])\n",
    "print(num[-2])\n",
    "print(num[-3])\n",
    "print(num[-4])\n",
    "print(num[-5])\n",
    "print(num[-6])\n",
    "print(num[-7])\n",
    "print(num[-8])\n",
    "print(num[-9])\n",
    "print(num[-10])\n",
    "print(num[-11])\n",
    "print(num[-12])\n",
    "print(num[-13])\n",
    "print(num[-14])\n",
    "print(num[-15])"
   ]
  },
  {
   "cell_type": "markdown",
   "id": "65c5aeff-0e85-4593-92e7-a0b2612de178",
   "metadata": {},
   "source": [
    "4) Slicing both positive and negative "
   ]
  },
  {
   "cell_type": "code",
   "execution_count": 45,
   "id": "58210aa4-ab86-4238-850b-e530514f6979",
   "metadata": {},
   "outputs": [
    {
     "name": "stdout",
     "output_type": "stream",
     "text": [
      "[4, 5, 6, 7, 8]\n"
     ]
    }
   ],
   "source": [
    "num = [1,2,3,4,5,6,7,8,9,10,11,12,3,14,15]\n",
    "\n",
    "print(num[3 : 8])"
   ]
  },
  {
   "cell_type": "code",
   "execution_count": 47,
   "id": "90841a9b-66c1-45ac-971b-46d5b802344f",
   "metadata": {},
   "outputs": [
    {
     "name": "stdout",
     "output_type": "stream",
     "text": [
      "[3, 4, 5, 6, 7, 8, 9, 10, 11, 12]\n"
     ]
    }
   ],
   "source": [
    "print(num[2 : 12])"
   ]
  },
  {
   "cell_type": "code",
   "execution_count": 61,
   "id": "549ebf48-3b33-47e8-9f92-8e30b3b06cb0",
   "metadata": {},
   "outputs": [
    {
     "name": "stdout",
     "output_type": "stream",
     "text": [
      "[1, 2, 3, 4, 5, 6]\n"
     ]
    }
   ],
   "source": [
    "print (num [:6])"
   ]
  },
  {
   "cell_type": "code",
   "execution_count": 63,
   "id": "eefb38e0-d1ac-4f8d-9f98-1d8b1163558f",
   "metadata": {},
   "outputs": [
    {
     "name": "stdout",
     "output_type": "stream",
     "text": [
      "[3, 4, 5, 6, 7, 8, 9, 10, 11, 12, 3, 14, 15]\n"
     ]
    }
   ],
   "source": [
    "print (num [2:])"
   ]
  },
  {
   "cell_type": "code",
   "execution_count": 67,
   "id": "674efada-148e-48f0-b760-16006936d65a",
   "metadata": {},
   "outputs": [
    {
     "name": "stdout",
     "output_type": "stream",
     "text": [
      "[8, 9, 10, 11, 12, 3]\n"
     ]
    }
   ],
   "source": [
    "print (num[-8 : -2])"
   ]
  },
  {
   "cell_type": "code",
   "execution_count": 69,
   "id": "9a7cdb99-d262-4660-9ea1-1e5a0069fbf6",
   "metadata": {},
   "outputs": [
    {
     "name": "stdout",
     "output_type": "stream",
     "text": [
      "[4, 5, 6, 7, 8, 9, 10, 11, 12, 3, 14]\n"
     ]
    }
   ],
   "source": [
    "print (num [-12 : -1])"
   ]
  },
  {
   "cell_type": "code",
   "execution_count": 73,
   "id": "e1de1e04-fdb1-4be5-8765-1025d3109e51",
   "metadata": {},
   "outputs": [
    {
     "name": "stdout",
     "output_type": "stream",
     "text": [
      "[11, 12, 3, 14, 15]\n"
     ]
    }
   ],
   "source": [
    "print(num[ -5: ])"
   ]
  },
  {
   "cell_type": "code",
   "execution_count": 75,
   "id": "5e283f59-ac3e-4706-954c-1f06a46c99c1",
   "metadata": {},
   "outputs": [
    {
     "name": "stdout",
     "output_type": "stream",
     "text": [
      "[1, 2, 3]\n"
     ]
    }
   ],
   "source": [
    "print(num[ :-12 ])"
   ]
  },
  {
   "cell_type": "markdown",
   "id": "71f7b80c-d912-4374-ae5c-0ced71d92450",
   "metadata": {},
   "source": [
    "5) Concatenate any 5 list"
   ]
  },
  {
   "cell_type": "code",
   "execution_count": 77,
   "id": "026c0770-d760-4b30-b278-0858f202d5d2",
   "metadata": {},
   "outputs": [
    {
     "name": "stdout",
     "output_type": "stream",
     "text": [
      "[1, 2, 3, 1.1, 2.2, 3.3]\n"
     ]
    }
   ],
   "source": [
    "a = [1,2,3]\n",
    "b = [1.1, 2.2, 3.3]\n",
    "c = a+b\n",
    "print(c)"
   ]
  },
  {
   "cell_type": "code",
   "execution_count": 85,
   "id": "a9fb9023-5d19-456a-9945-397e18c61168",
   "metadata": {},
   "outputs": [
    {
     "name": "stdout",
     "output_type": "stream",
     "text": [
      "[1, 2, 3, 1.1, 2.2, 3.3, 'Mercedes', 'BMW', 'Volvo']\n"
     ]
    }
   ],
   "source": [
    "cars = [\"Mercedes\", \"BMW\", \"Volvo\"]\n",
    "c = a+b+cars\n",
    "print(c)"
   ]
  },
  {
   "cell_type": "code",
   "execution_count": 89,
   "id": "eeff9b87-7c7b-487a-bb51-29e11aad6117",
   "metadata": {},
   "outputs": [
    {
     "name": "stdout",
     "output_type": "stream",
     "text": [
      "['java', 'python', 'c', 'c++', 2001, 2002, 2003, 2004, 96.6, 72, 87.2, 56]\n"
     ]
    }
   ],
   "source": [
    "course = [\"java\", \"python\", \"c\", \"c++\"]\n",
    "year = [2001, 2002, 2003, 2004]\n",
    "percent = [96.6, 72, 87.2, 56]\n",
    "result = course+year+percent\n",
    "print(result)"
   ]
  },
  {
   "cell_type": "code",
   "execution_count": 95,
   "id": "aabea255-2251-4f2e-92ef-9292bd083eeb",
   "metadata": {},
   "outputs": [
    {
     "name": "stdout",
     "output_type": "stream",
     "text": [
      "[1, 2, 3, 1, 2, 3]\n"
     ]
    }
   ],
   "source": [
    "a = [1,2,3]\n",
    "b = a * 2\n",
    "print(b)"
   ]
  },
  {
   "cell_type": "code",
   "execution_count": 99,
   "id": "7c296efd-5438-4efb-8848-3416af30b598",
   "metadata": {},
   "outputs": [
    {
     "name": "stdout",
     "output_type": "stream",
     "text": [
      "[123, 321, 345, 123, 321, 345, 123, 321, 345]\n"
     ]
    }
   ],
   "source": [
    "num = [123, 321, 345]\n",
    "result = num * 3\n",
    "print(result)"
   ]
  },
  {
   "cell_type": "markdown",
   "id": "72234343-38e3-4b59-a2a9-05fbc71c95cc",
   "metadata": {},
   "source": [
    "7) Modify 5 elements in a 15 elements by using index and slicing "
   ]
  },
  {
   "cell_type": "code",
   "execution_count": 117,
   "id": "d6cc4b12-3ea0-4359-a8fe-5e00538f875e",
   "metadata": {},
   "outputs": [
    {
     "name": "stdout",
     "output_type": "stream",
     "text": [
      "[1, 2, 3, 4, 5, 6, 7, 8, 9, 10, 11, 12, 3, 14, 15]\n",
      "[0, 2, 3, 4, 5, 6, 7, 8, 9, 10, 11, 12, 3, 14, 15]\n",
      "[0, 2, 3, 4, 22, 6, 7, 8, 9, 10, 11, 12, 3, 14, 15]\n",
      "[0, 22, 33, 44, 55, 22, 6, 7, 8, 9, 10, 11, 12, 3, 14, 15]\n"
     ]
    }
   ],
   "source": [
    "num = [1,2,3,4,5,6,7,8,9,10,11,12,3,14,15]\n",
    "print(num)\n",
    "num[0] = 0\n",
    "print(num)\n",
    "num[4] = 22\n",
    "print(num)\n",
    "num[1 : 4] = 22,33,44,55\n",
    "print(num)"
   ]
  },
  {
   "cell_type": "code",
   "execution_count": 125,
   "id": "44ae65fc-5104-4629-8f1a-14f493d61edc",
   "metadata": {},
   "outputs": [
    {
     "name": "stdout",
     "output_type": "stream",
     "text": [
      "['apple', 'mango', 'banana']\n",
      "['apple', 'strawberry', 'banana']\n",
      "['apple', 'strawberry', 'cherries']\n",
      "['apple', 'kiwi', 'mango', 'cherries']\n"
     ]
    }
   ],
   "source": [
    "fruits = [\"apple\", \"mango\", \"banana\"]\n",
    "print(fruits)\n",
    "fruits[1] = \"strawberry\"\n",
    "print(fruits)\n",
    "fruits[2] = \"cherries\"\n",
    "print(fruits)\n",
    "fruits[1:2] = \"kiwi\", \"mango\"\n",
    "print(fruits)"
   ]
  },
  {
   "cell_type": "markdown",
   "id": "9cc49481-9792-4e25-8ce2-feb5e023f107",
   "metadata": {},
   "source": [
    "8) Try finding different methods with examples\n",
    "    List methods: There are multiple types of List methods"
   ]
  },
  {
   "cell_type": "code",
   "execution_count": 135,
   "id": "fd9f794a-a0c8-4b2b-8aad-ead72809a389",
   "metadata": {},
   "outputs": [
    {
     "name": "stdout",
     "output_type": "stream",
     "text": [
      "[1, 2, 3, 4]\n"
     ]
    }
   ],
   "source": [
    "#Append: Adds an elements to the end of the list\n",
    "a = [1,2,3]\n",
    "a.append(4)\n",
    "print(a)"
   ]
  },
  {
   "cell_type": "code",
   "execution_count": 143,
   "id": "3110790c-ebec-4bfb-85fb-d9469fe4bc96",
   "metadata": {},
   "outputs": [
    {
     "name": "stdout",
     "output_type": "stream",
     "text": [
      "[1, 2, 3]\n"
     ]
    }
   ],
   "source": [
    "#Copy: Returns a copy of a list\n",
    "a = [1,2,3]\n",
    "a.copy()\n",
    "print(a)"
   ]
  },
  {
   "cell_type": "code",
   "execution_count": 145,
   "id": "38cc0dbc-1dec-4d3a-979f-4e4f32175762",
   "metadata": {},
   "outputs": [
    {
     "name": "stdout",
     "output_type": "stream",
     "text": [
      "[1, 2, 3, 4]\n"
     ]
    }
   ],
   "source": [
    "#Sort: Sort the list in ascending order \n",
    "a = [4,2,1,3]\n",
    "a.sort()\n",
    "print(a)"
   ]
  },
  {
   "cell_type": "code",
   "execution_count": 147,
   "id": "600b7e3b-7951-4c3a-a661-0c7df51af8e1",
   "metadata": {},
   "outputs": [
    {
     "name": "stdout",
     "output_type": "stream",
     "text": [
      "[3, 2, 1]\n"
     ]
    }
   ],
   "source": [
    "#Reverse: Reverse the order of the elements in the list\n",
    "a = [1,2,3]\n",
    "a.reverse()\n",
    "print(a)"
   ]
  },
  {
   "cell_type": "code",
   "execution_count": 149,
   "id": "d9b5f46a-b540-4f28-a104-40e0a1afd193",
   "metadata": {},
   "outputs": [
    {
     "name": "stdout",
     "output_type": "stream",
     "text": [
      "[1, 3, 2, 3, 4, 2, 1]\n"
     ]
    }
   ],
   "source": [
    "#Remove: Removes of the first occurrence of a specific element \n",
    "a = [1,2,3,2,3,4,2,1]\n",
    "a.remove(2)\n",
    "print(a)"
   ]
  },
  {
   "cell_type": "code",
   "execution_count": 153,
   "id": "4d0941d9-058f-4940-9697-0196000ec89d",
   "metadata": {},
   "outputs": [
    {
     "name": "stdout",
     "output_type": "stream",
     "text": [
      "[1, 3]\n"
     ]
    }
   ],
   "source": [
    "#pop: removes and returns the elements at a specific position( or the last element if no index is specified)\n",
    "a = [1,2,3]\n",
    "a.pop(1)\n",
    "print(a)"
   ]
  },
  {
   "cell_type": "code",
   "execution_count": 155,
   "id": "3215b82e-9dc7-4c6a-9dd9-432f23e3e913",
   "metadata": {},
   "outputs": [
    {
     "name": "stdout",
     "output_type": "stream",
     "text": [
      "[1, 2, 3, 4]\n"
     ]
    }
   ],
   "source": [
    "#insert: Inserts an element at a specific position \n",
    "a = [1,3,4]\n",
    "a.insert(1, 2)\n",
    "print(a)"
   ]
  },
  {
   "cell_type": "code",
   "execution_count": 165,
   "id": "af3e66dd-e3d1-4598-b84a-bb673a81bf81",
   "metadata": {},
   "outputs": [
    {
     "name": "stdout",
     "output_type": "stream",
     "text": [
      "1\n"
     ]
    }
   ],
   "source": [
    "#index: Returns the index of first occurence of a specific element \n",
    "a = [1,2,3]\n",
    "print(a.index(2))"
   ]
  },
  {
   "cell_type": "code",
   "execution_count": 175,
   "id": "1dca354d-c8b7-4f2c-9bfe-bdf60f720ceb",
   "metadata": {},
   "outputs": [
    {
     "name": "stdout",
     "output_type": "stream",
     "text": [
      "[1, 2, 3, 4, 5]\n"
     ]
    }
   ],
   "source": [
    "#extend: Adds elements to the end of the current list\n",
    "a = [1,2,3]\n",
    "a.extend([4, 5])\n",
    "print(a)"
   ]
  },
  {
   "cell_type": "code",
   "execution_count": 185,
   "id": "db26352b-1046-4367-9281-a45c813c331e",
   "metadata": {},
   "outputs": [
    {
     "name": "stdout",
     "output_type": "stream",
     "text": [
      "3\n"
     ]
    }
   ],
   "source": [
    "#count: counts the number of times a specific elements appears in a list\n",
    "a = [1,2,3,2,4,2,5]\n",
    "print(a.count(2))"
   ]
  },
  {
   "cell_type": "code",
   "execution_count": 191,
   "id": "64f469be-f53e-4a5c-9adb-f3cb1c84bc93",
   "metadata": {},
   "outputs": [
    {
     "name": "stdout",
     "output_type": "stream",
     "text": [
      "[]\n"
     ]
    }
   ],
   "source": [
    "#Clear: Clear all the elements from the list\n",
    "a = [1,2,3,2]\n",
    "a.clear()\n",
    "print(a)"
   ]
  },
  {
   "cell_type": "code",
   "execution_count": 199,
   "id": "df062a77-609c-4035-b9cd-ebc4f66202de",
   "metadata": {},
   "outputs": [
    {
     "name": "stdout",
     "output_type": "stream",
     "text": [
      "3\n"
     ]
    }
   ],
   "source": [
    "#Max: It returns the largest value from the list\n",
    "a = [1,2,3]\n",
    "b = max(a)\n",
    "print(b)"
   ]
  },
  {
   "cell_type": "code",
   "execution_count": 203,
   "id": "0c8e6891-4794-446f-a5b5-738b45441ce4",
   "metadata": {},
   "outputs": [
    {
     "name": "stdout",
     "output_type": "stream",
     "text": [
      "1\n"
     ]
    }
   ],
   "source": [
    "#Min: It returns the lowest value from the list\n",
    "a = [1,2,3]\n",
    "b = min(a)\n",
    "print(b)"
   ]
  },
  {
   "cell_type": "code",
   "execution_count": 209,
   "id": "0ada8ec5-4d70-4bfc-87cb-e560bf864a1a",
   "metadata": {},
   "outputs": [
    {
     "name": "stdout",
     "output_type": "stream",
     "text": [
      "a length is 3\n"
     ]
    }
   ],
   "source": [
    "#len: It refers to the lenght of the elements in the list\n",
    "a = [1,2,3]\n",
    "b = len(a)\n",
    "print('a length is',b)"
   ]
  },
  {
   "cell_type": "code",
   "execution_count": null,
   "id": "950cf8c2-291b-4de4-96cd-594894ea265a",
   "metadata": {},
   "outputs": [],
   "source": []
  }
 ],
 "metadata": {
  "kernelspec": {
   "display_name": "Python 3 (ipykernel)",
   "language": "python",
   "name": "python3"
  },
  "language_info": {
   "codemirror_mode": {
    "name": "ipython",
    "version": 3
   },
   "file_extension": ".py",
   "mimetype": "text/x-python",
   "name": "python",
   "nbconvert_exporter": "python",
   "pygments_lexer": "ipython3",
   "version": "3.12.4"
  }
 },
 "nbformat": 4,
 "nbformat_minor": 5
}
