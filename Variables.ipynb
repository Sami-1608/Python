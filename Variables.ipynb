{
 "cells": [
  {
   "cell_type": "markdown",
   "id": "6f014de4-1a7b-4209-a7eb-ee3267aefcfd",
   "metadata": {},
   "source": [
    "# 1.Explain about Variables.\n",
    "# -> Variables are the containers which stores Values or Data."
   ]
  },
  {
   "cell_type": "code",
   "execution_count": 1,
   "id": "08b52959-4f59-4e28-9724-d057090a1720",
   "metadata": {},
   "outputs": [
    {
     "name": "stdout",
     "output_type": "stream",
     "text": [
      "Sami\n"
     ]
    }
   ],
   "source": [
    "# Example\n",
    "\n",
    "name = \"Sami\"\n",
    "\n",
    "print(name)\n",
    "\n",
    "# Here \"name\" is a variable for value \"Sami\""
   ]
  },
  {
   "cell_type": "markdown",
   "id": "68ae4b4c-5342-40fd-9a04-d064efd8ce50",
   "metadata": {},
   "source": [
    "# 2. Rules of Variables.\n",
    "# > Variables must be AlphaNumeric\n",
    "# > Variables cannot start with a numeric digit.\n",
    "# > Variables cannot have a name same as Variables.\n",
    "# > Variables cannot start with special characters except underscore (_).\n",
    "# > Variables are Casesensitive (Name, name, NAME all are three different variables)."
   ]
  },
  {
   "cell_type": "markdown",
   "id": "5d1a71cd-a4a2-4ad4-b728-eed9a15ef6e3",
   "metadata": {},
   "source": [
    "# 3. Types of Variables.\n",
    "# > Variables are again divided into two types: i) Single ii) Multi variables\n",
    "# > Single Variable: x=11, y=22, z=33\n",
    "# > Multi variables are again divided in two types: i) Multi to Multi ii) Multi to One (or) One to Multi\n",
    "# > Multi to Multi: x,y,z = 11,22,33\n",
    "# > Multi to One or One to Multi: x=y=z=11\n"
   ]
  },
  {
   "cell_type": "code",
   "execution_count": null,
   "id": "3d21da88-383a-4391-a969-c468bcb8c198",
   "metadata": {},
   "outputs": [],
   "source": [
    "#Example for Different types of variables\n"
   ]
  },
  {
   "cell_type": "markdown",
   "id": "edeba501-156c-4617-a726-9165bc4e5b8a",
   "metadata": {},
   "source": [
    "# Single Variables\n",
    "# 1.Example"
   ]
  },
  {
   "cell_type": "code",
   "execution_count": 48,
   "id": "af9798e8-292d-402f-98aa-b99831997a7c",
   "metadata": {},
   "outputs": [
    {
     "name": "stdout",
     "output_type": "stream",
     "text": [
      "11\n"
     ]
    }
   ],
   "source": [
    "x=11\n",
    "print(x)"
   ]
  },
  {
   "cell_type": "markdown",
   "id": "f8f2f207-e389-4f3c-9f22-551301f4400c",
   "metadata": {},
   "source": [
    "# 2.Example"
   ]
  },
  {
   "cell_type": "code",
   "execution_count": 57,
   "id": "5f52b4b2-6f5a-4115-b14f-41c6e42fd3ee",
   "metadata": {},
   "outputs": [
    {
     "name": "stdout",
     "output_type": "stream",
     "text": [
      "22\n"
     ]
    }
   ],
   "source": [
    "y=22\n",
    "print(y)"
   ]
  },
  {
   "cell_type": "markdown",
   "id": "38651b0f-b147-46be-8eac-0c8448a22390",
   "metadata": {},
   "source": [
    "# 3.Example"
   ]
  },
  {
   "cell_type": "code",
   "execution_count": 55,
   "id": "04b48846-0a42-49f8-a8d6-e6ea3a0d1a37",
   "metadata": {},
   "outputs": [
    {
     "name": "stdout",
     "output_type": "stream",
     "text": [
      "33\n"
     ]
    }
   ],
   "source": [
    "z= 33\n",
    "print(z)"
   ]
  },
  {
   "cell_type": "markdown",
   "id": "2269b9b4-d769-4286-ba1a-98827e242e7f",
   "metadata": {},
   "source": [
    "# Multi to Multi variables\n",
    "# 1.Example"
   ]
  },
  {
   "cell_type": "code",
   "execution_count": 4,
   "id": "b00673fa-8c2f-41b4-8cee-3ce9b66ad530",
   "metadata": {},
   "outputs": [
    {
     "name": "stdout",
     "output_type": "stream",
     "text": [
      "11\n"
     ]
    }
   ],
   "source": [
    "x,y,z = 11,22,33\n",
    "print(x)"
   ]
  },
  {
   "cell_type": "code",
   "execution_count": 6,
   "id": "69d10f3a-4a21-4f35-8684-d1c647e35bb3",
   "metadata": {},
   "outputs": [
    {
     "name": "stdout",
     "output_type": "stream",
     "text": [
      "22\n"
     ]
    }
   ],
   "source": [
    "print(y)"
   ]
  },
  {
   "cell_type": "code",
   "execution_count": 8,
   "id": "78210b75-daa3-4be6-8a45-3df07a398221",
   "metadata": {},
   "outputs": [
    {
     "name": "stdout",
     "output_type": "stream",
     "text": [
      "33\n"
     ]
    }
   ],
   "source": [
    "print(z)"
   ]
  },
  {
   "cell_type": "code",
   "execution_count": 10,
   "id": "4bc276a9-63b6-4004-9bd6-6877dfd60a57",
   "metadata": {},
   "outputs": [
    {
     "name": "stdout",
     "output_type": "stream",
     "text": [
      "11 22 33\n"
     ]
    }
   ],
   "source": [
    "print(x,y,z)"
   ]
  },
  {
   "cell_type": "markdown",
   "id": "32eb3cdf-7d80-47ea-94fc-28d379252cdd",
   "metadata": {},
   "source": [
    "# 2. Example"
   ]
  },
  {
   "cell_type": "code",
   "execution_count": 36,
   "id": "e77a033b-3dd7-4c7e-be2d-b16b9af91add",
   "metadata": {},
   "outputs": [
    {
     "name": "stdout",
     "output_type": "stream",
     "text": [
      "Sami\n"
     ]
    }
   ],
   "source": [
    "name, age, location = \"Sami\", 10, \"Hyderabad\"\n",
    "print(name)"
   ]
  },
  {
   "cell_type": "code",
   "execution_count": 38,
   "id": "c7f38612-2e44-42bb-b5f0-ff097dca46b8",
   "metadata": {},
   "outputs": [
    {
     "name": "stdout",
     "output_type": "stream",
     "text": [
      "10\n"
     ]
    }
   ],
   "source": [
    "print(age)"
   ]
  },
  {
   "cell_type": "code",
   "execution_count": 40,
   "id": "c0c2d55c-8e43-4482-b021-224f0076fe87",
   "metadata": {},
   "outputs": [
    {
     "name": "stdout",
     "output_type": "stream",
     "text": [
      "Hyderabad\n"
     ]
    }
   ],
   "source": [
    "print(location)"
   ]
  },
  {
   "cell_type": "markdown",
   "id": "b52621ea-570a-4971-aa7d-733a6ba94bf0",
   "metadata": {},
   "source": [
    "# 3. Example"
   ]
  },
  {
   "cell_type": "code",
   "execution_count": 65,
   "id": "84f15be5-c5ab-48cd-aa3c-76e4fa0c68b7",
   "metadata": {},
   "outputs": [
    {
     "name": "stdout",
     "output_type": "stream",
     "text": [
      "77\n",
      "88\n",
      "99\n"
     ]
    }
   ],
   "source": [
    "a,b,c = 77,88,99\n",
    "print(a)\n",
    "print (b)\n",
    "print(c)"
   ]
  },
  {
   "cell_type": "markdown",
   "id": "59ca79a9-0eed-4fac-85d1-960c4924bbe9",
   "metadata": {},
   "source": [
    "# Multi to one or one to multi Variables\n",
    "# 1.Example"
   ]
  },
  {
   "cell_type": "code",
   "execution_count": 14,
   "id": "81954fff-2369-44a7-a145-f7f7cd653a9e",
   "metadata": {},
   "outputs": [
    {
     "name": "stdout",
     "output_type": "stream",
     "text": [
      "99\n"
     ]
    }
   ],
   "source": [
    "x=y=z=99\n",
    "print(x)"
   ]
  },
  {
   "cell_type": "code",
   "execution_count": 16,
   "id": "57e68506-d33a-47c9-a2f9-7b1c0bdea256",
   "metadata": {},
   "outputs": [
    {
     "name": "stdout",
     "output_type": "stream",
     "text": [
      "99\n"
     ]
    }
   ],
   "source": [
    "print(y)"
   ]
  },
  {
   "cell_type": "code",
   "execution_count": 18,
   "id": "417a915a-9dfe-47d1-8130-7e5cb8617946",
   "metadata": {},
   "outputs": [
    {
     "name": "stdout",
     "output_type": "stream",
     "text": [
      "99\n"
     ]
    }
   ],
   "source": [
    "print(z)"
   ]
  },
  {
   "cell_type": "code",
   "execution_count": 24,
   "id": "f9704786-e65b-4020-b59f-38d6397008ce",
   "metadata": {},
   "outputs": [
    {
     "name": "stdout",
     "output_type": "stream",
     "text": [
      "99 99 99\n"
     ]
    }
   ],
   "source": [
    "print(x,y,z)"
   ]
  },
  {
   "cell_type": "markdown",
   "id": "6aa4d707-c616-4b16-b2d6-2a3568ec4896",
   "metadata": {},
   "source": [
    "# 2.Example"
   ]
  },
  {
   "cell_type": "code",
   "execution_count": 67,
   "id": "3af2c7c5-1d7a-402f-bbe8-7a624f724611",
   "metadata": {},
   "outputs": [
    {
     "name": "stdout",
     "output_type": "stream",
     "text": [
      "222\n"
     ]
    }
   ],
   "source": [
    "a=b=c=222\n",
    "print(a)"
   ]
  },
  {
   "cell_type": "code",
   "execution_count": 69,
   "id": "0fa1b180-e47f-4c0d-b232-5ac709d1be95",
   "metadata": {},
   "outputs": [
    {
     "name": "stdout",
     "output_type": "stream",
     "text": [
      "222\n",
      "222\n"
     ]
    }
   ],
   "source": [
    "print(b)\n",
    "print(c)"
   ]
  },
  {
   "cell_type": "code",
   "execution_count": 71,
   "id": "0e81ea9e-b675-4f20-9b96-131817db1046",
   "metadata": {},
   "outputs": [
    {
     "name": "stdout",
     "output_type": "stream",
     "text": [
      "222 222 222\n"
     ]
    }
   ],
   "source": [
    "print(a,b,c)"
   ]
  },
  {
   "cell_type": "code",
   "execution_count": null,
   "id": "af812b39-9f6f-49bb-a79b-ae06bc7ae06a",
   "metadata": {},
   "outputs": [],
   "source": []
  }
 ],
 "metadata": {
  "kernelspec": {
   "display_name": "Python 3 (ipykernel)",
   "language": "python",
   "name": "python3"
  },
  "language_info": {
   "codemirror_mode": {
    "name": "ipython",
    "version": 3
   },
   "file_extension": ".py",
   "mimetype": "text/x-python",
   "name": "python",
   "nbconvert_exporter": "python",
   "pygments_lexer": "ipython3",
   "version": "3.12.4"
  }
 },
 "nbformat": 4,
 "nbformat_minor": 5
}
