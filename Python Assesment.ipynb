{
 "cells": [
  {
   "cell_type": "markdown",
   "id": "424f72f0-0a3e-410e-b019-433c086fccba",
   "metadata": {},
   "source": [
    "1) What is Python and why is it popular?\n",
    "   \n",
    "Python is a high level programming language it was introduced by Guido van Rossum in 1991. It can work on different platforms. it is very easy to use compared to other programming languages and it is user friendly.\n",
    "\n",
    "2) What is an IDE?\n",
    "   \n",
    "IDE is Integrated development environment. It basically helps programmer develops software code. IDE is basically a software applications.\n",
    "some of the mostly used IDEs are pycharm, visual studio, visual code, spyder, Pydev.\n",
    "\n",
    "3) Whare are the rules for naming variables in python?\n",
    "   \n",
    "- A variable must be Alphanumeric.\n",
    "- A variable can't start with numeric digits.\n",
    "- A variable can't have a keyword name.\n",
    "- A variable can't start with a special character except underscore.\n",
    "- It is a case-sensitive (NAME, Name & name are three different variables)\n"
   ]
  },
  {
   "cell_type": "code",
   "execution_count": 8,
   "id": "22cdb532-7a7b-482e-b4c2-7b47638b4556",
   "metadata": {},
   "outputs": [
    {
     "name": "stdout",
     "output_type": "stream",
     "text": [
      "1\n"
     ]
    }
   ],
   "source": [
    "# 4) How do you assign multiple values to multiple variables in a single line?\n",
    "\n",
    "a, b, c = 1, 2, 3\n",
    "print(a)"
   ]
  },
  {
   "cell_type": "code",
   "execution_count": 10,
   "id": "6e640f81-b27d-4c24-a717-a917e252c8e3",
   "metadata": {},
   "outputs": [
    {
     "name": "stdout",
     "output_type": "stream",
     "text": [
      "2\n"
     ]
    }
   ],
   "source": [
    "print(b)"
   ]
  },
  {
   "cell_type": "code",
   "execution_count": 12,
   "id": "803dddd1-f747-43e5-8475-68a75a22077e",
   "metadata": {},
   "outputs": [
    {
     "name": "stdout",
     "output_type": "stream",
     "text": [
      "3\n"
     ]
    }
   ],
   "source": [
    "print(c)"
   ]
  },
  {
   "cell_type": "markdown",
   "id": "1b97a85c-e8db-4539-bf95-dd1698e06df0",
   "metadata": {},
   "source": [
    "5) Can you use python keywords as variable names? why or why not?\n",
    "   \n",
    "we can't use keywords as variable names because keywords defines the language's syntax. A user has to follow syntax and semantics rules of language.\n",
    "\n",
    "6) Why are comments important in programming?\n",
    "   \n",
    "Comments are used for giving out brief description about the line of code or programme you're writing. This are the lines ignored by the interpreter during the execution of the programme. It helps to understand the code carefully. It can be written following '#'.\n",
    "\n",
    "7) What are basic data types in python?\n",
    "   \n",
    "The basic datatypes in python are Int, Float, Complex, Boolean.\n",
    "\n",
    "8) How do you convert a string to an integer in python?\n",
    "   \n",
    "In python strings can be converted using built-in functions like 'int()'.\n"
   ]
  },
  {
   "cell_type": "code",
   "execution_count": 1,
   "id": "2b057261-f017-4ab5-9ab2-28f175818b08",
   "metadata": {},
   "outputs": [
    {
     "name": "stdout",
     "output_type": "stream",
     "text": [
      "<class 'str'>\n",
      "<class 'int'>\n"
     ]
    }
   ],
   "source": [
    "a = '100'\n",
    "print(type(a))\n",
    "\n",
    "#converting the string into int\n",
    "\n",
    "convert_int = int(a)\n",
    "print(type(convert_int))"
   ]
  },
  {
   "cell_type": "markdown",
   "id": "f5df7de8-12a3-4c51-9afd-b41d31b59ce4",
   "metadata": {},
   "source": [
    "9) What is the difference between int and float?\n",
    "   \n",
    "Int is a number positive or negative without decimals of unlimited length whereas float is a number with decimal points or decimal values.\n",
    "\n",
    "10) How do you check the data type of a variable?\n",
    "    \n",
    "In python we have a build-int function like 'type()' for identifying the datatype of a variable.\n",
    "For example:"
   ]
  },
  {
   "cell_type": "code",
   "execution_count": 38,
   "id": "c3dad1c4-eb97-4e9d-9362-7ad3020fc966",
   "metadata": {},
   "outputs": [
    {
     "name": "stdout",
     "output_type": "stream",
     "text": [
      "<class 'int'>\n"
     ]
    }
   ],
   "source": [
    "a = 112312\n",
    "print(type(a))"
   ]
  },
  {
   "cell_type": "markdown",
   "id": "85b61f5e-9283-428b-a116-bbda8fa27d6c",
   "metadata": {},
   "source": [
    "11) How do you add an element to a list?\n",
    "    \n",
    "To add an element into a list we use append() method."
   ]
  },
  {
   "cell_type": "code",
   "execution_count": 13,
   "id": "c612d462-6628-4086-b48c-73153dab80cb",
   "metadata": {},
   "outputs": [
    {
     "name": "stdout",
     "output_type": "stream",
     "text": [
      "[1, 2, 3, 4, 5, 6]\n"
     ]
    }
   ],
   "source": [
    "#Example for adding an element in list\n",
    "\n",
    "num = [1,2,3,4,5]\n",
    "num.append(6)\n",
    "print(num)\n",
    "\n",
    "#By using append you can only add one element to the end of the list\n"
   ]
  },
  {
   "cell_type": "code",
   "execution_count": 15,
   "id": "466bb11c-cb3b-4e27-9e17-881d7d294923",
   "metadata": {},
   "outputs": [
    {
     "name": "stdout",
     "output_type": "stream",
     "text": [
      "<class 'tuple'>\n"
     ]
    }
   ],
   "source": [
    "# 12) How do you create a tuple with one element?\n",
    "\n",
    "one_element = (4, )\n",
    "print(type(one_element))\n",
    "\n",
    "#If you don't add comma after the element it will be integer. So the rule of tuple is to add comma after every element "
   ]
  },
  {
   "cell_type": "code",
   "execution_count": 25,
   "id": "c61e2dfc-2231-4d5d-aa91-14d44e26f8da",
   "metadata": {},
   "outputs": [
    {
     "name": "stdout",
     "output_type": "stream",
     "text": [
      "<class 'dict'>\n",
      "mercedes\n",
      "2020\n"
     ]
    }
   ],
   "source": [
    "# 13) How do you access a value in dictionary using a key?\n",
    "\n",
    "data = {'name':'mercedes','variant':'E220 CDI','model':'2020','Fuel':'Diesel'}\n",
    "print(type(data))\n",
    "\n",
    "print(data['name'])\n",
    "print(data['model'])\n",
    "\n",
    "#To access a value in dictionary you use variable name and key to get a value as output"
   ]
  },
  {
   "cell_type": "code",
   "execution_count": 33,
   "id": "893c70db-593a-43d5-8baf-678d624ef9eb",
   "metadata": {},
   "outputs": [
    {
     "name": "stdout",
     "output_type": "stream",
     "text": [
      "<class 'list'>\n",
      "supra\n",
      "nissan patrol\n",
      "['mercedes', 'supra', 'bmw', 'nissan patrol']\n"
     ]
    }
   ],
   "source": [
    "# 14) How do you access elements in a list?\n",
    "\n",
    "cars = [\"mercedes\",\"supra\",\"bmw\",\"nissan patrol\"]\n",
    "print(type(cars))\n",
    "\n",
    "#we can access elements in a list by index method\n",
    "print(cars[1])\n",
    "print(cars[-1])\n",
    "print(cars[0: ])"
   ]
  },
  {
   "cell_type": "code",
   "execution_count": 55,
   "id": "57fb2d68-9b40-405d-9e08-7d71f5946272",
   "metadata": {},
   "outputs": [
    {
     "name": "stdout",
     "output_type": "stream",
     "text": [
      "<class 'str'>\n",
      "m\n",
      "m\n",
      "t\n",
      " mohammed sami. I am from hyderabad. I am learning Data science\n",
      "my name is mohammed sami. I am from hyderabad. I am learning Data\n"
     ]
    }
   ],
   "source": [
    "# 15) How do you access a character in a string?\n",
    "\n",
    "bio = \"my name is mohammed sami. I am from hyderabad. I am learning Data science\"\n",
    "print(type(bio))\n",
    "\n",
    "#Accessing elements using index\n",
    "\n",
    "print(bio[5])\n",
    "print(bio[15])\n",
    "print(bio[-10])\n",
    "print(bio[10: ])\n",
    "print(bio[ : -8])"
   ]
  },
  {
   "cell_type": "code",
   "execution_count": 61,
   "id": "59d6b3bc-2e8f-423f-a6a0-01fcec43a901",
   "metadata": {},
   "outputs": [
    {
     "name": "stdout",
     "output_type": "stream",
     "text": [
      "My name is sami. And i'm 28 years old.\n",
      "My name is sami and i am 28 year old.\n",
      " My name is sami and i am 28 years old. I stay in hyderabad.\n"
     ]
    }
   ],
   "source": [
    "# 16) How do you format strings in python.\n",
    "# we format strings in python by three ways: old fomratting method, format method, f-string method\n",
    "\n",
    "#Old formatting method\n",
    "name = \"sami\"\n",
    "age = 28\n",
    "formstring = \"My name is %s. And i'm %d years old.\" % (name, age)\n",
    "print(formstring)\n",
    "\n",
    "#formatting method\n",
    "\n",
    "name = \"sami\"\n",
    "age = 28\n",
    "str = \"My name is {} and i am {} year old.\" .format (name, age)\n",
    "\n",
    "#There shouldn't be any gap between curly brackets\n",
    "\n",
    "print(str)\n",
    "\n",
    "#f-string method\n",
    "name = \"sami\"\n",
    "age = 28\n",
    "location = \"hyderabad\"\n",
    "\n",
    "fstr = f\" My name is {name} and i am {age} years old. I stay in {location}.\"\n",
    "print(fstr)"
   ]
  },
  {
   "cell_type": "markdown",
   "id": "a5b2fe30-6f92-438a-babb-ae29823f1212",
   "metadata": {},
   "source": [
    "17) What is a tuple and how it different from list?\n",
    "\n",
    "Tuple is a data type which represents ordered elements. It is a immutable sequence of elements. It is similar to lists but\n",
    "the key difference is that tuples cannot be modified once it's created.\n",
    "They are represented using paranthesis() and are seperated by using comma."
   ]
  },
  {
   "cell_type": "code",
   "execution_count": 67,
   "id": "e0928233-6c25-4ce5-80d6-45377e3b1f1d",
   "metadata": {},
   "outputs": [
    {
     "name": "stdout",
     "output_type": "stream",
     "text": [
      "(1, 2, 3, 3, 4, 5)\n",
      "<class 'tuple'>\n"
     ]
    }
   ],
   "source": [
    "# 18) How do you concanitate two tuples?\n",
    "# Concatination basically means combining two tuples\n",
    "\n",
    "a = (1,2,3)\n",
    "b = (3,4,5)\n",
    "c = a + b\n",
    "print(c)\n",
    "\n",
    "print(type(c))"
   ]
  },
  {
   "cell_type": "code",
   "execution_count": 69,
   "id": "46912536-52cf-49b1-8e78-c0586cd1d15e",
   "metadata": {},
   "outputs": [
    {
     "name": "stdout",
     "output_type": "stream",
     "text": [
      "<class 'dict'>\n",
      "mercedes\n",
      "2020\n"
     ]
    }
   ],
   "source": [
    "# 19) How do you access values in dictionary ?\n",
    "# You can access values in dictionary using key\n",
    "\n",
    "data = {'name':'mercedes','variant':'E220 CDI','model':'2020','Fuel':'Diesel'}\n",
    "print(type(data))\n",
    "\n",
    "print(data['name'])\n",
    "print(data['model'])"
   ]
  },
  {
   "cell_type": "code",
   "execution_count": 23,
   "id": "b5d5a76f-e873-4d8c-a8f4-77c5b6cb45f3",
   "metadata": {},
   "outputs": [
    {
     "name": "stdout",
     "output_type": "stream",
     "text": [
      "{'Panigale V4 Standard': 2772600, 'Panigale V4 S': 3347600, 'Panigale V4 SP2': 4236000}\n",
      "<class 'dict'>\n",
      "{'Panigale V4 S': 3347600, 'Panigale V4 SP2': 4236000}\n",
      "{'Panigale V4 S': 3347600}\n"
     ]
    }
   ],
   "source": [
    "# 20) How do you add a key value pair to a dictionary?\n",
    "\n",
    "#The syntax for adding a key value pair in dictionary is variable_name = {'key' : 'value, 'key' : 'value'}\n",
    "\n",
    "#Example:\n",
    "\n",
    "bike = {'Panigale V4 Standard' : 2772600, 'Panigale V4 S' : 3347600, 'Panigale V4 SP2' : 4236000}\n",
    "print(bike)\n",
    "print(type(bike))\n",
    "\n",
    "\n",
    "# 21) How do you remove a key-value pair from a dictionary?\n",
    "# There are two ways to remove a key-value pair from a dictionary pop & pop item.\n",
    "\n",
    "#removing a key-value pair using pop\n",
    "\n",
    "bike.pop(\"Panigale V4 Standard\")\n",
    "print(bike)\n",
    "\n",
    "#removing a key-value pair using pop item\n",
    "\n",
    "bike.popitem()\n",
    "print(bike)"
   ]
  },
  {
   "cell_type": "code",
   "execution_count": 37,
   "id": "63d5cbb1-7a49-45ee-b385-4e5697b98ee8",
   "metadata": {},
   "outputs": [
    {
     "name": "stdout",
     "output_type": "stream",
     "text": [
      "<class 'set'>\n",
      "{1, 2, 3, 4, 5, 6, 7}\n",
      "{1, 2, 3, 4, 5, 6, 7, 'python'}\n",
      "{1, 2, 3, 4, 5, 6, 7}\n",
      "{2, 3, 4, 5, 6, 7}\n"
     ]
    }
   ],
   "source": [
    "# 22) How do you add an element to a set?\n",
    "\n",
    "aa = {1,2,3,4,5,6}\n",
    "print(type(aa))\n",
    "\n",
    "#adding an element using add() method\n",
    "aa.add(7)\n",
    "print(aa)\n",
    "aa.add('python')\n",
    "print(aa)\n",
    "\n",
    "# 23) How do you remove an element from a set?\n",
    "#removing an element using remove() method\n",
    "\n",
    "aa.remove('python')\n",
    "print(aa)\n",
    "aa.remove(1)\n",
    "print(aa)"
   ]
  },
  {
   "cell_type": "markdown",
   "id": "fda3cb8f-3567-4c75-8581-20b44360d940",
   "metadata": {},
   "source": [
    "24) What are the common set operations in python?\n",
    "\n",
    "    Set in python has 4 in-built mathematical common operations: union, intersection, subtraction (or) difference, symmetric difference."
   ]
  },
  {
   "cell_type": "code",
   "execution_count": 65,
   "id": "630034e1-a6e3-473f-8386-eea196c16c33",
   "metadata": {},
   "outputs": [
    {
     "name": "stdout",
     "output_type": "stream",
     "text": [
      "{1, 2, 3, 4, 5, 6, 7, 8}\n",
      "{1, 2, 3, 4, 5, 6, 7, 8}\n",
      "{4, 5}\n",
      "{4, 5}\n",
      "{1, 2, 3}\n",
      "{1, 2, 3}\n",
      "{1, 2, 3, 6, 7, 8}\n",
      "{1, 2, 3, 6, 7, 8}\n"
     ]
    }
   ],
   "source": [
    "#examples for operation in sets\n",
    "#Union method\n",
    "\n",
    "ab = {1,2,3,4,5}\n",
    "ac = {4,5,6,7,8}\n",
    "\n",
    "#Union combines two sets removing removing duplicates\n",
    "#there are two methods to apply union to a set\n",
    "\n",
    "#perform using |\n",
    "cc = ab | ac\n",
    "print(cc)\n",
    "\n",
    "#you can also perform using union() function\n",
    "\n",
    "z = ab.union(ac)\n",
    "print(z)\n",
    "\n",
    "#intersection: it provides the common elements between the sets\n",
    "#there are two methods to apply intersection to a set\n",
    "\n",
    "#perform using &\n",
    "cd = ab & ac\n",
    "print(cd)\n",
    "\n",
    "#perform using intersection()\n",
    "y = ab.intersection(ac)\n",
    "print(y)\n",
    "\n",
    "#subtraction (or)  difference: The diff between two sets that elements present in one set that are not present in another set\n",
    "\n",
    "#perform using ( - )\n",
    "ce = ab - ac\n",
    "print(ce)\n",
    "\n",
    "#perform using difference()\n",
    "print(ab.difference(ac))\n",
    "\n",
    "#symmetric difference: returns the elements in either sets but not in both sets\n",
    "\n",
    "#perform using ' ^ '\n",
    "cf = ab ^ ac\n",
    "print(cf)\n",
    "\n",
    "#perform using symmetric_difference\n",
    "print(ab.symmetric_difference(ac))"
   ]
  },
  {
   "cell_type": "code",
   "execution_count": 83,
   "id": "edf0ea6c-c5fa-423a-96b3-f3996e6e15b7",
   "metadata": {},
   "outputs": [
    {
     "name": "stdout",
     "output_type": "stream",
     "text": [
      "<class 'tuple'>\n",
      "3\n",
      "1\n"
     ]
    }
   ],
   "source": [
    "# 25) Write a python program to find and index of an element in a tuple?\n",
    "\n",
    "data = (\"sami\", \"mercedes\", 1, 2, 2.31, \"true\")\n",
    "print(type(data))\n",
    "\n",
    "#finding an index of an element \n",
    "\n",
    "print(data.index(2))\n",
    "print(data.index(\"mercedes\"))"
   ]
  }
 ],
 "metadata": {
  "kernelspec": {
   "display_name": "Python 3 (ipykernel)",
   "language": "python",
   "name": "python3"
  },
  "language_info": {
   "codemirror_mode": {
    "name": "ipython",
    "version": 3
   },
   "file_extension": ".py",
   "mimetype": "text/x-python",
   "name": "python",
   "nbconvert_exporter": "python",
   "pygments_lexer": "ipython3",
   "version": "3.12.4"
  }
 },
 "nbformat": 4,
 "nbformat_minor": 5
}
