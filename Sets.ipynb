{
 "cells": [
  {
   "cell_type": "markdown",
   "id": "c0d5fe15-4083-4d5b-b3b3-44dc89034dad",
   "metadata": {},
   "source": [
    "1) Define sets\n",
    "   Sets are a collection of unique elements. It is unordered and it is represented using curly {} brackets and the elements seperated by\n",
    "   commas. It is mutable and i doesn't allow any duplicates. We have set methods like union, intersection, difference & more.\n",
    "   Set only allows unique elements it doesn't allow duplicate items."
   ]
  },
  {
   "cell_type": "code",
   "execution_count": 17,
   "id": "6119f2b5-f207-4f45-b202-f8d8f44cc353",
   "metadata": {},
   "outputs": [
    {
     "name": "stdout",
     "output_type": "stream",
     "text": [
      "<class 'set'>\n",
      "<class 'set'>\n",
      "<class 'list'>\n",
      "<class 'set'>\n",
      "<class 'set'>\n"
     ]
    }
   ],
   "source": [
    "#Example\n",
    "\n",
    "empty_set = set()\n",
    "print(type(empty_set))\n",
    "\n",
    "#creating a set with elements \n",
    "\n",
    "cars = {'mercedes', 'bmw', 'audi', 'porsche'}\n",
    "print(type(cars))\n",
    "\n",
    "#converting a list to set\n",
    "\n",
    "num = [1,2,3,4,4,5,5]\n",
    "print(type(num))\n",
    "\n",
    "a = set(num)\n",
    "print(type(a))\n",
    "\n",
    "nums = set([432,423423.52,5,252,352])\n",
    "print(type(nums))"
   ]
  },
  {
   "cell_type": "markdown",
   "id": "c7b9d177-b121-4581-a556-ce9ae8ef8274",
   "metadata": {},
   "source": [
    "2) Adding & updating sets in python\n",
    "   Sets are mutable, however they are unordered indexing has no meaning\n",
    "   we cannot access or change the elements of a set using indexing (or) slicing."
   ]
  },
  {
   "cell_type": "code",
   "execution_count": 39,
   "id": "df3f24ab-ac29-49b8-b243-26cdea01ed33",
   "metadata": {},
   "outputs": [
    {
     "name": "stdout",
     "output_type": "stream",
     "text": [
      "<class 'set'>\n",
      "{1, 2, 3, 4, 5, 6, 7, 8}\n",
      "{1, 2, 3, 4, 5, 6, 7, 8, 'benz'}\n"
     ]
    }
   ],
   "source": [
    "#adding items to a set in python\n",
    "\n",
    "numbers = {1,2,3,4,4,5,6,7}\n",
    "print(type(numbers))\n",
    "\n",
    "#adding elements using add method\n",
    "\n",
    "numbers.add(8)\n",
    "print(numbers)\n",
    "numbers.add('benz')\n",
    "print(numbers)"
   ]
  },
  {
   "cell_type": "code",
   "execution_count": 45,
   "id": "e86be792-c25f-4083-9c86-20d65f2984b6",
   "metadata": {},
   "outputs": [
    {
     "name": "stdout",
     "output_type": "stream",
     "text": [
      "{'Audi', 'maseratti', 'hayabusa', 'Indiana', 'R1', 'BMW', 'mercedes'}\n"
     ]
    }
   ],
   "source": [
    "#updating items to a set in python\n",
    "#Update method is used to update the set with items and other collection types(lists, tuples, sets etc)\n",
    "\n",
    "cars = {'mercedes', 'Audi', 'BMW', 'maseratti'}\n",
    "bikes = {'hayabusa', 'R1', 'Indiana'}\n",
    "cars.update(bikes)\n",
    "print(cars)"
   ]
  },
  {
   "cell_type": "code",
   "execution_count": 55,
   "id": "9ea257e3-4d30-4d2b-b26d-f2adb55f5936",
   "metadata": {},
   "outputs": [
    {
     "name": "stdout",
     "output_type": "stream",
     "text": [
      "{'ali', 'ganesh', 'sami', 'sai', 'robert'}\n",
      "{'ali', 'ganesh', 'sami', 'sai'}\n",
      "{'ganesh', 'sami', 'sai'}\n"
     ]
    }
   ],
   "source": [
    "#removing an element from set\n",
    "#we have two methods to remove a element from set. remove() and discard()\n",
    "\n",
    "name = {'sami', 'sai', 'ganesh', 'robert', 'ali'}\n",
    "print(name)\n",
    "\n",
    "#removeing 'robert' from the set\n",
    "name.discard('robert')\n",
    "print(name)\n",
    "\n",
    "#same goes with the 'remove' method\n",
    "\n",
    "name.remove('ali')\n",
    "print(name)"
   ]
  },
  {
   "cell_type": "code",
   "execution_count": 57,
   "id": "7136ee9d-fe84-4dcb-89d8-34ecf4a6aeed",
   "metadata": {},
   "outputs": [
    {
     "name": "stdout",
     "output_type": "stream",
     "text": [
      "{'ganesh', 'sami', 'Johnson', 'sai'}\n"
     ]
    }
   ],
   "source": [
    "#again adding up the elements in a set\n",
    "\n",
    "name.add('Johnson')\n",
    "print(name)"
   ]
  },
  {
   "cell_type": "markdown",
   "id": "32e783a2-52b8-4c38-9a43-a73754bfdfe6",
   "metadata": {},
   "source": [
    "3) Set operations\n",
    "   Python set operations provide different built-in mathematical operations like unione, intersection, subtraction & symmetric difference"
   ]
  },
  {
   "cell_type": "code",
   "execution_count": 65,
   "id": "1f3d6d36-9242-4c14-b7a7-294f9b644869",
   "metadata": {},
   "outputs": [
    {
     "name": "stdout",
     "output_type": "stream",
     "text": [
      "{1, 2, 3, 4, 5, 6, 7, 8}\n",
      "{1, 2, 3, 4, 5, 6, 7, 8}\n"
     ]
    }
   ],
   "source": [
    "#Example for operations\n",
    "\n",
    "#union: Union combines elements from two sets removing duplicates. \n",
    "#There are two methods to perform union one is using ( \\ ) and other is using union()\n",
    "\n",
    "a = {1,2,3,4,5}\n",
    "b = {4,5,6,7,8}\n",
    "\n",
    "#perform using ( \\ )\n",
    "c = a|b\n",
    "print(c)\n",
    "\n",
    "#perform using union()\n",
    "\n",
    "d = a.union(b)\n",
    "print(d)"
   ]
  },
  {
   "cell_type": "code",
   "execution_count": 73,
   "id": "6c95f252-7825-45ca-a789-6d71192b4fff",
   "metadata": {},
   "outputs": [
    {
     "name": "stdout",
     "output_type": "stream",
     "text": [
      "{4, 5}\n",
      "{4, 5}\n"
     ]
    }
   ],
   "source": [
    "#set intersection: It provides the common elements between two sets\n",
    "#There are two methods to perform intersection ' & '  and intersection()\n",
    "\n",
    "#using ' & ' method\n",
    "e = a & b\n",
    "print(e)\n",
    "\n",
    "#using intersection() method\n",
    "f = a.intersection(b)\n",
    "print(f)"
   ]
  },
  {
   "cell_type": "code",
   "execution_count": 81,
   "id": "2da78ed6-c342-4089-a4cd-0b2c88dd1b54",
   "metadata": {},
   "outputs": [
    {
     "name": "stdout",
     "output_type": "stream",
     "text": [
      "{1, 2, 3}\n",
      "{1, 2, 3}\n",
      "{8, 6, 7}\n",
      "{8, 6, 7}\n"
     ]
    }
   ],
   "source": [
    "#Difference\n",
    "\n",
    "#The difference between two sets A&B includes elements of set A that are not present in set B. \n",
    "#returns elements that are in first set but not in second set\n",
    "\n",
    "#perfom difference using ( - )\n",
    "print(a - b)\n",
    "\n",
    "#perform using difference()\n",
    "print(a.difference(b))\n",
    "\n",
    "#similarly with B - A\n",
    "\n",
    "print(b - a)\n",
    "print(b.difference(a))"
   ]
  },
  {
   "cell_type": "code",
   "execution_count": 85,
   "id": "5627ba33-8d0a-4104-a0c1-50fc04263edb",
   "metadata": {},
   "outputs": [
    {
     "name": "stdout",
     "output_type": "stream",
     "text": [
      "{1, 2, 3, 6, 7, 8}\n",
      "{1, 2, 3, 6, 7, 8}\n"
     ]
    }
   ],
   "source": [
    "#Set Symmetric difference:\n",
    "#A & B includes all the elements of set A & B without the common elements. \n",
    "#Returns elements that are in either of the sets but not in both\n",
    "\n",
    "#perform using ' ^ '\n",
    "print(a ^ b)\n",
    "\n",
    "#perform using symmetric_difference\n",
    "\n",
    "print(a.symmetric_difference(b))\n"
   ]
  }
 ],
 "metadata": {
  "kernelspec": {
   "display_name": "Python 3 (ipykernel)",
   "language": "python",
   "name": "python3"
  },
  "language_info": {
   "codemirror_mode": {
    "name": "ipython",
    "version": 3
   },
   "file_extension": ".py",
   "mimetype": "text/x-python",
   "name": "python",
   "nbconvert_exporter": "python",
   "pygments_lexer": "ipython3",
   "version": "3.12.4"
  }
 },
 "nbformat": 4,
 "nbformat_minor": 5
}
