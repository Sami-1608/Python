{
 "cells": [
  {
   "cell_type": "markdown",
   "id": "df24f1c8-7801-4c88-9814-4231e6e8ef9d",
   "metadata": {},
   "source": [
    "# 1. What is Python?\n",
    "# -> Python is a high level programming language. Python was introduced by Guido van Rossum. It can be used for multiple purposes."
   ]
  },
  {
   "cell_type": "markdown",
   "id": "f388edaf-db73-49b0-8a20-e7b7b0ed288d",
   "metadata": {},
   "source": [
    "# 2. History of Python.\n",
    "# -> Python was introduced by Guido van Rossum is the year 1991. It can work on different platforms and it is easy to use compared to other programming languages. The latest version of Python is Python 3, which we will be using currently."
   ]
  },
  {
   "cell_type": "markdown",
   "id": "764d6137-76b5-42fc-a915-e5475f9b4f20",
   "metadata": {},
   "source": [
    "# 3. Why we need to use Python?\n",
    "# -> Python can be used on different platforms. It allows developers to write programms or codes with fewer lines compared to other programming languages. It is user friendly and easy to use. The code can be executed as soon as it is written."
   ]
  },
  {
   "cell_type": "markdown",
   "id": "952f5575-9ba3-4f10-abba-4a80e27e042a",
   "metadata": {},
   "source": [
    "# 4. Applications of Python.\n",
    "# -> Python can be basically used for web development, software development and many more.\n",
    "# -> Web development\n",
    "# -> Game development \n",
    "# -> Software development \n",
    "# -> Business Applications (financial accounting, purchasing, sales, shipping and list goes on)\n",
    "# -> GUI\n",
    "# -> Data science\n",
    "# -> Audio and visual applications (Netflix, prime video, Youtube and so on)"
   ]
  },
  {
   "cell_type": "markdown",
   "id": "6b8dd261-d966-4968-8532-ea3aba0b37c8",
   "metadata": {},
   "source": [
    "# 5. Explain about Keywords?\n",
    "# -> Keywords are a set of reserved words in Python which have specific functions and meanings in Python. Keywords cannot be used as variable names, function names or other identifiers."
   ]
  },
  {
   "cell_type": "code",
   "execution_count": 2,
   "id": "ffe21c2f-0e06-4e4f-8756-905f8cfb9a09",
   "metadata": {},
   "outputs": [
    {
     "name": "stdout",
     "output_type": "stream",
     "text": [
      "['False', 'None', 'True', 'and', 'as', 'assert', 'async', 'await', 'break', 'class', 'continue', 'def', 'del', 'elif', 'else', 'except', 'finally', 'for', 'from', 'global', 'if', 'import', 'in', 'is', 'lambda', 'nonlocal', 'not', 'or', 'pass', 'raise', 'return', 'try', 'while', 'with', 'yield']\n"
     ]
    }
   ],
   "source": [
    "import keyword\n",
    "print(keyword.kwlist)"
   ]
  },
  {
   "cell_type": "markdown",
   "id": "0cc9d72f-0777-4ae2-8aa0-02defe3153f5",
   "metadata": {},
   "source": [
    "# 6 . Explain about comments.\n",
    "# -> Comments are basically used for giving out the information about the line or code you are trying to work on. This are the lines ignored by the interpreter during the execution of programm. It helps the programmer to understand the code carefully. Comments can be detected by using '#'."
   ]
  },
  {
   "cell_type": "code",
   "execution_count": 4,
   "id": "9df9809a-8a4d-43ab-924a-b24b8606a408",
   "metadata": {},
   "outputs": [
    {
     "name": "stdout",
     "output_type": "stream",
     "text": [
      "Sami\n"
     ]
    }
   ],
   "source": [
    "#Sample comment\n",
    "\n",
    "name = \"Sami\"\n",
    "print(name)"
   ]
  },
  {
   "cell_type": "markdown",
   "id": "24fcc4f8-2e61-44b2-b71b-ffdb58b41d2d",
   "metadata": {},
   "source": [
    "# 7. Explain about variables.\n",
    "# -> Variables are the containers used to store values. A variable is created as soon as you add a value to it."
   ]
  },
  {
   "cell_type": "code",
   "execution_count": 8,
   "id": "9e930d6f-cdc1-4572-93ba-e66d87b3199c",
   "metadata": {},
   "outputs": [
    {
     "name": "stdout",
     "output_type": "stream",
     "text": [
      "Sami\n"
     ]
    }
   ],
   "source": [
    "# Creating a valid variable\n",
    "\n",
    "name = \"Sami\"\n",
    "print(name)\n",
    "\n",
    "# Here 'name' is a variable for value 'Sami'"
   ]
  },
  {
   "cell_type": "code",
   "execution_count": 10,
   "id": "bdfc366f-7f87-4a66-8308-925328a8403a",
   "metadata": {},
   "outputs": [
    {
     "ename": "SyntaxError",
     "evalue": "invalid decimal literal (2713454226.py, line 3)",
     "output_type": "error",
     "traceback": [
      "\u001b[0;36m  Cell \u001b[0;32mIn[10], line 3\u001b[0;36m\u001b[0m\n\u001b[0;31m    16name = 'Sami'\u001b[0m\n\u001b[0m     ^\u001b[0m\n\u001b[0;31mSyntaxError\u001b[0m\u001b[0;31m:\u001b[0m invalid decimal literal\n"
     ]
    }
   ],
   "source": [
    "# Creating a invalid variable \n",
    "\n",
    "16name = 'Sami'\n",
    "print(16name)\n",
    "\n",
    "# Here is an example for invalid variable"
   ]
  },
  {
   "cell_type": "code",
   "execution_count": null,
   "id": "43f634af-d934-4635-89ef-50608e561717",
   "metadata": {},
   "outputs": [],
   "source": [
    "# Rules for a valid variable\n",
    "\n",
    "# A variable should be Alphanumeric\n",
    "# Although it is Alphanumeric it cannot be started with a digit\n",
    "# It is case sensitive (name, Name, NAME are three different variables)\n",
    "# A variable cannot have a name of Keyword\n",
    "# Variable cannnot start with special characters other than underscore(_)"
   ]
  }
 ],
 "metadata": {
  "kernelspec": {
   "display_name": "Python 3 (ipykernel)",
   "language": "python",
   "name": "python3"
  },
  "language_info": {
   "codemirror_mode": {
    "name": "ipython",
    "version": 3
   },
   "file_extension": ".py",
   "mimetype": "text/x-python",
   "name": "python",
   "nbconvert_exporter": "python",
   "pygments_lexer": "ipython3",
   "version": "3.12.4"
  }
 },
 "nbformat": 4,
 "nbformat_minor": 5
}
