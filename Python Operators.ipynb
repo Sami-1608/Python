{
 "cells": [
  {
   "cell_type": "markdown",
   "id": "f3fb041a-2079-46c2-b112-d7d5fb4fb182",
   "metadata": {},
   "source": [
    "1. Explain about operators.\n",
    "Operators are basically used to perform operations between variables (or) values.\n",
    "\n",
    "2. Define the type of operators in python.\n",
    "The different types of operators are:\n",
    "- Arithmetic operator\n",
    "- Assignment operator\n",
    "- Comparison operator\n",
    "- Logical operator\n",
    "- Identity operator\n",
    "- Membership operator\n",
    "- Bitwise operator\n",
    "\n",
    "3. Explain each and every operator with examples.\n",
    "- Arithmetic Operator:\n",
    "  Arithmetic operator is a symbol that performs mathematical operations between two variables or values. Arithmetic operators are:\n",
    "  Addition ( + )\n",
    "  Subtraction ( - )\n",
    "  Multiplication ( * )\n",
    "  Division (/ )\n",
    "  We are now adding more operations over here\n",
    "  Float ( // )\n",
    "  Exponential ( ** )\n",
    "  Modulus ( % )"
   ]
  },
  {
   "cell_type": "code",
   "execution_count": 3,
   "id": "f110c21f-31d9-4108-ba16-27a29f921bce",
   "metadata": {},
   "outputs": [
    {
     "name": "stdout",
     "output_type": "stream",
     "text": [
      "6\n"
     ]
    }
   ],
   "source": [
    "#Arithmetic operator examples:\n",
    "\n",
    "x = 2\n",
    "y = 4\n",
    "z = x+y\n",
    "print(z)"
   ]
  },
  {
   "cell_type": "code",
   "execution_count": 7,
   "id": "84998a2a-1b22-41d7-829b-0e88132c7074",
   "metadata": {},
   "outputs": [
    {
     "name": "stdout",
     "output_type": "stream",
     "text": [
      "-4\n"
     ]
    }
   ],
   "source": [
    "a,b = 4,8\n",
    "c = a-b\n",
    "print(c)"
   ]
  },
  {
   "cell_type": "code",
   "execution_count": 9,
   "id": "03e11c59-2e74-4cb9-b131-905459e58dcf",
   "metadata": {},
   "outputs": [
    {
     "name": "stdout",
     "output_type": "stream",
     "text": [
      "288\n"
     ]
    }
   ],
   "source": [
    "val1 = 24\n",
    "val2 = 12\n",
    "val3 = val1 * val2\n",
    "print(val3)"
   ]
  },
  {
   "cell_type": "code",
   "execution_count": 13,
   "id": "baa02cfe-00f3-4eb9-a383-78566135b570",
   "metadata": {},
   "outputs": [
    {
     "name": "stdout",
     "output_type": "stream",
     "text": [
      "12.0\n"
     ]
    }
   ],
   "source": [
    "a = 24\n",
    "b = 2\n",
    "c = a/b\n",
    "print(c)"
   ]
  },
  {
   "cell_type": "code",
   "execution_count": 25,
   "id": "7179cbaf-3162-42a5-b565-f7b7db696908",
   "metadata": {},
   "outputs": [
    {
     "name": "stdout",
     "output_type": "stream",
     "text": [
      "1\n"
     ]
    }
   ],
   "source": [
    "x = 12\n",
    "y = 11\n",
    "z = x // y\n",
    "print(z)"
   ]
  },
  {
   "cell_type": "code",
   "execution_count": 27,
   "id": "0fdbd48d-ff8a-4b04-9dba-354ccd3b4b75",
   "metadata": {},
   "outputs": [
    {
     "name": "stdout",
     "output_type": "stream",
     "text": [
      "22\n"
     ]
    }
   ],
   "source": [
    "val1 = 22\n",
    "val2 = 44\n",
    "val3 = val1 % val2\n",
    "print(val3)"
   ]
  },
  {
   "cell_type": "code",
   "execution_count": 29,
   "id": "82c29dc2-06a8-4055-b06a-54f9935e38f1",
   "metadata": {},
   "outputs": [
    {
     "name": "stdout",
     "output_type": "stream",
     "text": [
      "4096\n"
     ]
    }
   ],
   "source": [
    "a , b = 4 , 6\n",
    "c = a ** b\n",
    "print(c)"
   ]
  },
  {
   "cell_type": "markdown",
   "id": "173b6f88-c559-439d-8b92-8a870247ca1a",
   "metadata": {},
   "source": [
    "- Comparison Operator\n",
    "Comparison operator is used to compare two variables and values.\n",
    "we have 6 types of comparison operator.\n",
    "- == real equal to\n",
    "- != not equal to\n",
    "- ( > ) greater than\n",
    "- ( < ) less than\n",
    "- ( >=) greater than equal to\n",
    "- ( <=) less than equal to\n",
    "\n",
    "Comparison operator is basically comparing two variables or values to see if it's True or False"
   ]
  },
  {
   "cell_type": "code",
   "execution_count": 31,
   "id": "c9e62ea6-33dd-4538-9a95-b8f5e7b0774f",
   "metadata": {},
   "outputs": [
    {
     "name": "stdout",
     "output_type": "stream",
     "text": [
      "False\n"
     ]
    }
   ],
   "source": [
    "#Comparison operator examples\n",
    "a = 22\n",
    "b = 11\n",
    "print (a == b)"
   ]
  },
  {
   "cell_type": "code",
   "execution_count": 33,
   "id": "6829e8b8-97bf-49fc-b6c9-310442c42bfb",
   "metadata": {},
   "outputs": [
    {
     "name": "stdout",
     "output_type": "stream",
     "text": [
      "True\n"
     ]
    }
   ],
   "source": [
    "a = 2\n",
    "b = 2\n",
    "print (a == b)"
   ]
  },
  {
   "cell_type": "code",
   "execution_count": 37,
   "id": "5c74d70d-6936-4cbf-ba37-81f827f687f1",
   "metadata": {},
   "outputs": [
    {
     "name": "stdout",
     "output_type": "stream",
     "text": [
      "True\n"
     ]
    }
   ],
   "source": [
    "x = 12\n",
    "y = 21\n",
    "print(x != y)"
   ]
  },
  {
   "cell_type": "code",
   "execution_count": 39,
   "id": "e21bc9ed-2b5a-43cd-8000-87cfa62bce21",
   "metadata": {},
   "outputs": [
    {
     "name": "stdout",
     "output_type": "stream",
     "text": [
      "False\n"
     ]
    }
   ],
   "source": [
    "j = 22\n",
    "k = 22\n",
    "print(j != k)"
   ]
  },
  {
   "cell_type": "code",
   "execution_count": 41,
   "id": "c7ab901c-357b-434a-8590-272148fdfbaf",
   "metadata": {},
   "outputs": [
    {
     "name": "stdout",
     "output_type": "stream",
     "text": [
      "False\n"
     ]
    }
   ],
   "source": [
    "val1 = 19\n",
    "val2 = 22\n",
    "print(val1 > val2)"
   ]
  },
  {
   "cell_type": "code",
   "execution_count": 43,
   "id": "d360d519-4cf2-4acd-8fe9-a5e47a411ff9",
   "metadata": {},
   "outputs": [
    {
     "name": "stdout",
     "output_type": "stream",
     "text": [
      "True\n"
     ]
    }
   ],
   "source": [
    "val1 = 22\n",
    "val2 = 19\n",
    "print(val1 > val2)"
   ]
  },
  {
   "cell_type": "code",
   "execution_count": 45,
   "id": "4aa59b7c-7f63-4423-8ce0-9a1f27eecd31",
   "metadata": {},
   "outputs": [
    {
     "name": "stdout",
     "output_type": "stream",
     "text": [
      "False\n"
     ]
    }
   ],
   "source": [
    "x = 66\n",
    "y = 23\n",
    "print(x < y)"
   ]
  },
  {
   "cell_type": "code",
   "execution_count": 47,
   "id": "9b024658-a477-468f-a001-382d727dc02b",
   "metadata": {},
   "outputs": [
    {
     "name": "stdout",
     "output_type": "stream",
     "text": [
      "True\n"
     ]
    }
   ],
   "source": [
    "x = 23\n",
    "y = 66\n",
    "print(x < y)"
   ]
  },
  {
   "cell_type": "code",
   "execution_count": 59,
   "id": "470b2826-708e-4d68-8c27-85939c700e95",
   "metadata": {},
   "outputs": [
    {
     "name": "stdout",
     "output_type": "stream",
     "text": [
      "False\n",
      "False\n",
      "True\n",
      "False\n",
      "True\n",
      "True\n"
     ]
    }
   ],
   "source": [
    "a = 22\n",
    "b = 34\n",
    "c = 70\n",
    "print (a >= b)\n",
    "print (a >= c)\n",
    "print (b >= a)\n",
    "print (b >= c)\n",
    "print (c >= a)\n",
    "print (c >= b)"
   ]
  },
  {
   "cell_type": "code",
   "execution_count": 71,
   "id": "11e92a70-0dc1-41d6-9ab5-30dac94eaf36",
   "metadata": {},
   "outputs": [
    {
     "name": "stdout",
     "output_type": "stream",
     "text": [
      "True\n",
      "True\n",
      "False\n",
      "True\n",
      "False\n",
      "False\n"
     ]
    }
   ],
   "source": [
    "a = 22\n",
    "b = 34\n",
    "c = 70\n",
    "print (a <= b)\n",
    "print (a <= c)\n",
    "print (b <= a)\n",
    "print (b <= c)\n",
    "print (c <= a)\n",
    "print (c <= b)"
   ]
  },
  {
   "cell_type": "markdown",
   "id": "384bf2e9-1d7d-4bb8-a767-add6f33b57f2",
   "metadata": {},
   "source": [
    "- Assignment Operator\n",
    "Assignment operators are used to assign values to variables. (It is both combination of = and arithmetic operators). It is used for code optimisation. Code optimisation refers to reducing memory allocation. Arithmetic operators are basically used to lower down the memory usage."
   ]
  },
  {
   "cell_type": "code",
   "execution_count": 85,
   "id": "edb21f2d-9c21-43fc-88ba-aed991d60717",
   "metadata": {},
   "outputs": [
    {
     "name": "stdout",
     "output_type": "stream",
     "text": [
      "10\n",
      "10\n"
     ]
    }
   ],
   "source": [
    "#Assignment operator example\n",
    "a = 3\n",
    "b = 7\n",
    "c = a+b\n",
    "print(c)\n",
    "a += b\n",
    "print(a)"
   ]
  },
  {
   "cell_type": "code",
   "execution_count": 93,
   "id": "68e83b7c-0ab7-4909-8b27-5f49a6e98555",
   "metadata": {},
   "outputs": [
    {
     "name": "stdout",
     "output_type": "stream",
     "text": [
      "-3\n",
      "-3\n"
     ]
    }
   ],
   "source": [
    "a = 5\n",
    "b = 8\n",
    "c = a - b\n",
    "print(c)\n",
    "\n",
    "a -= b\n",
    "print(a)"
   ]
  },
  {
   "cell_type": "code",
   "execution_count": 95,
   "id": "cfb5d6f1-e233-429b-be41-1220e47b4df5",
   "metadata": {},
   "outputs": [
    {
     "name": "stdout",
     "output_type": "stream",
     "text": [
      "1452\n"
     ]
    }
   ],
   "source": [
    "x = 66\n",
    "y = 22\n",
    "x *= y\n",
    "print(x)"
   ]
  },
  {
   "cell_type": "code",
   "execution_count": 97,
   "id": "c62db620-3655-49f3-91f3-fa13a1cbf795",
   "metadata": {},
   "outputs": [
    {
     "name": "stdout",
     "output_type": "stream",
     "text": [
      "0.6666666666666666\n"
     ]
    }
   ],
   "source": [
    "a = 2\n",
    "b = 3\n",
    "a /= b\n",
    "print(a)"
   ]
  },
  {
   "cell_type": "markdown",
   "id": "9ff80654-bff9-48eb-b294-087656842f03",
   "metadata": {},
   "source": [
    "- Logical Operators\n",
    "We have three types of logical operators i)and ii)or iii)not\n",
    "and - If an 'and' statement have both the L.H.S and R.H.S True then the condition is True. If one of the condition is False then the output is False."
   ]
  },
  {
   "cell_type": "code",
   "execution_count": 105,
   "id": "6dc57779-3039-4b5c-a385-63b722c13517",
   "metadata": {},
   "outputs": [
    {
     "data": {
      "text/plain": [
       "True"
      ]
     },
     "execution_count": 105,
     "metadata": {},
     "output_type": "execute_result"
    }
   ],
   "source": [
    "#And condition example\n",
    "\n",
    "5 > 1 and 5 < 7"
   ]
  },
  {
   "cell_type": "code",
   "execution_count": 107,
   "id": "28dc86dd-6194-4719-a00b-91b6d158f204",
   "metadata": {},
   "outputs": [
    {
     "data": {
      "text/plain": [
       "False"
      ]
     },
     "execution_count": 107,
     "metadata": {},
     "output_type": "execute_result"
    }
   ],
   "source": [
    "2 > 1 and 1 > 2"
   ]
  },
  {
   "cell_type": "markdown",
   "id": "4559396b-22a8-41e8-908a-2c759ceeecd4",
   "metadata": {},
   "source": [
    "- Or\n",
    "In an a'or' statement if either L.H.S or R.H.S either one of the condition is True then the condition is satisfied and the output is True."
   ]
  },
  {
   "cell_type": "code",
   "execution_count": 109,
   "id": "a18e16bd-a0fa-459b-af2c-c88ad134bb05",
   "metadata": {},
   "outputs": [
    {
     "data": {
      "text/plain": [
       "True"
      ]
     },
     "execution_count": 109,
     "metadata": {},
     "output_type": "execute_result"
    }
   ],
   "source": [
    "#Or example\n",
    "5 > 1 or 4 > 1"
   ]
  },
  {
   "cell_type": "code",
   "execution_count": 119,
   "id": "be175d74-f14c-4831-8fc6-ebfca8059392",
   "metadata": {},
   "outputs": [
    {
     "data": {
      "text/plain": [
       "True"
      ]
     },
     "execution_count": 119,
     "metadata": {},
     "output_type": "execute_result"
    }
   ],
   "source": [
    "5 > 1 or 1 > 2"
   ]
  },
  {
   "cell_type": "code",
   "execution_count": 117,
   "id": "bbdff2e6-1db9-41af-908c-90ffd423b722",
   "metadata": {},
   "outputs": [
    {
     "data": {
      "text/plain": [
       "False"
      ]
     },
     "execution_count": 117,
     "metadata": {},
     "output_type": "execute_result"
    }
   ],
   "source": [
    "1 > 2 or 5 > 10"
   ]
  },
  {
   "cell_type": "markdown",
   "id": "30d05d6f-4178-44f4-a0b7-875401f514bc",
   "metadata": {},
   "source": [
    "- Not\n",
    "'Not' condition is basically the reverse of output."
   ]
  },
  {
   "cell_type": "code",
   "execution_count": 121,
   "id": "2671b061-d903-4fb3-8934-bc2ab37cd648",
   "metadata": {},
   "outputs": [
    {
     "data": {
      "text/plain": [
       "True"
      ]
     },
     "execution_count": 121,
     "metadata": {},
     "output_type": "execute_result"
    }
   ],
   "source": [
    "#Not examples\n",
    "5 > 1 and 6 > 2\n"
   ]
  },
  {
   "cell_type": "code",
   "execution_count": 123,
   "id": "7539ceba-f99f-4582-83f4-a7f88b576002",
   "metadata": {},
   "outputs": [
    {
     "data": {
      "text/plain": [
       "False"
      ]
     },
     "execution_count": 123,
     "metadata": {},
     "output_type": "execute_result"
    }
   ],
   "source": [
    "not(5 > 1 and 6 > 2)"
   ]
  },
  {
   "cell_type": "code",
   "execution_count": 127,
   "id": "0e8b4993-38fa-4fb7-a8bf-747b10e1fe08",
   "metadata": {},
   "outputs": [
    {
     "data": {
      "text/plain": [
       "False"
      ]
     },
     "execution_count": 127,
     "metadata": {},
     "output_type": "execute_result"
    }
   ],
   "source": [
    "5 < 1 and 6 > 2"
   ]
  },
  {
   "cell_type": "code",
   "execution_count": 129,
   "id": "42176d9b-e017-4027-8e6f-d62d924af8ee",
   "metadata": {},
   "outputs": [
    {
     "data": {
      "text/plain": [
       "True"
      ]
     },
     "execution_count": 129,
     "metadata": {},
     "output_type": "execute_result"
    }
   ],
   "source": [
    "not(5 < 1 and 6 > 2)"
   ]
  },
  {
   "cell_type": "code",
   "execution_count": 131,
   "id": "ee5dda84-df2f-4020-b9cd-8a890f7dce83",
   "metadata": {},
   "outputs": [
    {
     "data": {
      "text/plain": [
       "True"
      ]
     },
     "execution_count": 131,
     "metadata": {},
     "output_type": "execute_result"
    }
   ],
   "source": [
    "6 > 2 or 9 > 11"
   ]
  },
  {
   "cell_type": "code",
   "execution_count": 133,
   "id": "a8fe4447-af16-4ae1-aa01-d1e25d4a85ef",
   "metadata": {},
   "outputs": [
    {
     "data": {
      "text/plain": [
       "False"
      ]
     },
     "execution_count": 133,
     "metadata": {},
     "output_type": "execute_result"
    }
   ],
   "source": [
    "not(6 > 2 or 9 > 11)"
   ]
  },
  {
   "cell_type": "code",
   "execution_count": 135,
   "id": "3427953b-d8fc-4d34-b415-444cbe17d53e",
   "metadata": {},
   "outputs": [
    {
     "data": {
      "text/plain": [
       "False"
      ]
     },
     "execution_count": 135,
     "metadata": {},
     "output_type": "execute_result"
    }
   ],
   "source": [
    "6 < 2 or 9 > 11"
   ]
  },
  {
   "cell_type": "code",
   "execution_count": 137,
   "id": "b8664755-3fbf-41f8-806d-beea1fc3c184",
   "metadata": {},
   "outputs": [
    {
     "data": {
      "text/plain": [
       "False"
      ]
     },
     "execution_count": 137,
     "metadata": {},
     "output_type": "execute_result"
    }
   ],
   "source": [
    "not(6 > 2 or 9 > 11)"
   ]
  },
  {
   "cell_type": "markdown",
   "id": "2e42a8af-28b0-4090-9ce8-45ea80f3459c",
   "metadata": {},
   "source": [
    "Identity Operators: It is used to identify whether the value is present or not. There are two types of identity operator i) is ii) is not"
   ]
  },
  {
   "cell_type": "code",
   "execution_count": 13,
   "id": "5747d279-c7ac-4ed2-88ed-a1a3c7f14ef0",
   "metadata": {},
   "outputs": [
    {
     "name": "stdout",
     "output_type": "stream",
     "text": [
      "False\n",
      "True\n"
     ]
    }
   ],
   "source": [
    "#Example\n",
    "x = 2\n",
    "y = 4\n",
    "print(x is y)\n",
    "print(x is not y)"
   ]
  },
  {
   "cell_type": "code",
   "execution_count": 21,
   "id": "f172de54-a72c-4554-8eda-30adc51d8faf",
   "metadata": {},
   "outputs": [
    {
     "name": "stdout",
     "output_type": "stream",
     "text": [
      "False\n",
      "True\n",
      "False\n",
      "True\n"
     ]
    }
   ],
   "source": [
    "a = 56\n",
    "b = 22\n",
    "print(a is b)\n",
    "print(a is not b)\n",
    "print(b is a)\n",
    "print(b is not a)"
   ]
  },
  {
   "cell_type": "code",
   "execution_count": 25,
   "id": "6b58b4ee-9e55-4c74-9bb8-c18983169925",
   "metadata": {},
   "outputs": [
    {
     "name": "stdout",
     "output_type": "stream",
     "text": [
      "True\n",
      "False\n"
     ]
    }
   ],
   "source": [
    "j = 22\n",
    "k = 22\n",
    "print(j is k)\n",
    "print(j is not k)"
   ]
  },
  {
   "cell_type": "code",
   "execution_count": 31,
   "id": "6c779561-6257-461d-87ba-447380f9377f",
   "metadata": {},
   "outputs": [
    {
     "name": "stdout",
     "output_type": "stream",
     "text": [
      "False\n"
     ]
    }
   ],
   "source": [
    "welcome = \"Hello\"\n",
    "welcome1 = \"hello\"\n",
    "print(welcome is welcome1)"
   ]
  },
  {
   "cell_type": "code",
   "execution_count": 35,
   "id": "668ca5e2-7002-4bcb-8b15-a13c5991b805",
   "metadata": {},
   "outputs": [
    {
     "name": "stdout",
     "output_type": "stream",
     "text": [
      "False\n",
      "True\n"
     ]
    }
   ],
   "source": [
    "o = \"My name is Sami\"\n",
    "p = \"My name is Mohammed Sami\"\n",
    "print(o is p)\n",
    "print(o is not p)"
   ]
  },
  {
   "cell_type": "markdown",
   "id": "82196880-bfa1-4243-ba72-ef67aeb6caa1",
   "metadata": {},
   "source": [
    "Membership Operator: It is used to test whether the variables or values are present in a sequence or not. We have two types of Membership Operators. They are: 1) in 2) not in\n"
   ]
  },
  {
   "cell_type": "code",
   "execution_count": 55,
   "id": "38db5f19-844f-4d7a-b9b5-599b56ddca2b",
   "metadata": {},
   "outputs": [
    {
     "name": "stdout",
     "output_type": "stream",
     "text": [
      "False\n",
      "True\n"
     ]
    }
   ],
   "source": [
    "#Example\n",
    "name = \"sami\"\n",
    "print(\"r\" in name)\n",
    "print(\"s\" in name)"
   ]
  },
  {
   "cell_type": "code",
   "execution_count": 61,
   "id": "925c7ef6-5f5a-4c75-ac91-b89158de7d13",
   "metadata": {},
   "outputs": [
    {
     "name": "stdout",
     "output_type": "stream",
     "text": [
      "True\n",
      "False\n",
      "True\n"
     ]
    }
   ],
   "source": [
    "fullname = \"Mohammed Sami\"\n",
    "print(\"Mohammed\" in fullname)\n",
    "print(\"mohammed\" in fullname)\n",
    "print(\"Sami\" in fullname)"
   ]
  },
  {
   "cell_type": "code",
   "execution_count": 83,
   "id": "1f884864-7d8b-4824-b45a-4003b2060fd7",
   "metadata": {},
   "outputs": [
    {
     "name": "stdout",
     "output_type": "stream",
     "text": [
      "False\n",
      "True\n",
      "False\n",
      "5\n"
     ]
    }
   ],
   "source": [
    "x = [1,2,3,4,5]\n",
    "print(6 in x)\n",
    "print(4 and 5 in x)\n",
    "print(5 and 6 in x)\n",
    "print(5 or 6 in x)"
   ]
  },
  {
   "cell_type": "markdown",
   "id": "e18fa6ec-a26d-42c9-83aa-456fb251cdf5",
   "metadata": {},
   "source": [
    "Bitwise operator: It basically works on binary codes. They act as if they were strings of binary digits. They operate bit by bit.\n",
    "for ex: 2 is 10 in binary and 7 is 111\n",
    "We have 6 types of bitwise operators: i) And(&) ii) OR (|) iii) XOR (^) iv) NOT (~) v) left shift (<<) vi) right shift (>>)"
   ]
  },
  {
   "cell_type": "markdown",
   "id": "28e0bb28-45ef-4487-a3d6-5ede90bfa970",
   "metadata": {},
   "source": [
    "i) And: If both the conditions are True than the output is also True\n",
    "True = 1, False = 0"
   ]
  },
  {
   "cell_type": "code",
   "execution_count": 73,
   "id": "6a5ebbfd-59c2-4ef1-ae2c-0c527fd8f6f5",
   "metadata": {},
   "outputs": [
    {
     "name": "stdout",
     "output_type": "stream",
     "text": [
      "8\n"
     ]
    }
   ],
   "source": [
    "#Example\n",
    "print( 12 & 10 )"
   ]
  },
  {
   "cell_type": "code",
   "execution_count": 75,
   "id": "da04286b-ffac-4de7-a955-09acc25f2ca3",
   "metadata": {},
   "outputs": [
    {
     "name": "stdout",
     "output_type": "stream",
     "text": [
      "4\n"
     ]
    }
   ],
   "source": [
    "print( 100 & 142)"
   ]
  },
  {
   "cell_type": "code",
   "execution_count": 79,
   "id": "cc2de6d8-ce0c-4dc4-a7dc-643a52ff8ad0",
   "metadata": {},
   "outputs": [
    {
     "name": "stdout",
     "output_type": "stream",
     "text": [
      "768\n"
     ]
    }
   ],
   "source": [
    "print (1000 & 785)"
   ]
  },
  {
   "cell_type": "markdown",
   "id": "705de106-de0b-4936-bf95-b2694f489b3d",
   "metadata": {},
   "source": [
    "ii) OR: If one of the condition is True than the output is True"
   ]
  },
  {
   "cell_type": "code",
   "execution_count": 81,
   "id": "8b409676-3791-491a-afc3-56e22575989d",
   "metadata": {},
   "outputs": [
    {
     "name": "stdout",
     "output_type": "stream",
     "text": [
      "14\n"
     ]
    }
   ],
   "source": [
    "print( 12 | 10)"
   ]
  },
  {
   "cell_type": "code",
   "execution_count": 85,
   "id": "6ff8712d-1f79-4876-9693-ef0cd3961d8e",
   "metadata": {},
   "outputs": [
    {
     "name": "stdout",
     "output_type": "stream",
     "text": [
      "123\n"
     ]
    }
   ],
   "source": [
    "print( 121 | 123)"
   ]
  },
  {
   "cell_type": "code",
   "execution_count": 87,
   "id": "d6e8e55d-41ce-46e8-90fa-2849c2aa9f8f",
   "metadata": {},
   "outputs": [
    {
     "name": "stdout",
     "output_type": "stream",
     "text": [
      "1007\n"
     ]
    }
   ],
   "source": [
    "print ( 1002 | 999)"
   ]
  },
  {
   "cell_type": "markdown",
   "id": "1021b6c8-4e0f-4e9b-819c-69feff748577",
   "metadata": {},
   "source": [
    "iii) XOR: If both the conditions satisfy or both the conditions doesn't satify the output will be false. Both the conditions should differ for the value to be true."
   ]
  },
  {
   "cell_type": "code",
   "execution_count": 1,
   "id": "7a305272-43c6-45d9-abf5-1d3d0cbd76fb",
   "metadata": {},
   "outputs": [
    {
     "data": {
      "text/plain": [
       "12"
      ]
     },
     "execution_count": 1,
     "metadata": {},
     "output_type": "execute_result"
    }
   ],
   "source": [
    "#Example\n",
    "7 ^ 11"
   ]
  },
  {
   "cell_type": "code",
   "execution_count": 3,
   "id": "8815c9ef-3dfc-43f3-90e6-77da8d1780a6",
   "metadata": {},
   "outputs": [
    {
     "data": {
      "text/plain": [
       "109"
      ]
     },
     "execution_count": 3,
     "metadata": {},
     "output_type": "execute_result"
    }
   ],
   "source": [
    "123 ^ 22"
   ]
  },
  {
   "cell_type": "code",
   "execution_count": 5,
   "id": "fa561bd4-e8d5-4b36-877c-5f75a22b7faa",
   "metadata": {},
   "outputs": [
    {
     "data": {
      "text/plain": [
       "46"
      ]
     },
     "execution_count": 5,
     "metadata": {},
     "output_type": "execute_result"
    }
   ],
   "source": [
    "12 ^ 34"
   ]
  },
  {
   "cell_type": "code",
   "execution_count": 7,
   "id": "1a379110-8e2d-4e5c-8921-418b09608624",
   "metadata": {},
   "outputs": [
    {
     "data": {
      "text/plain": [
       "345"
      ]
     },
     "execution_count": 7,
     "metadata": {},
     "output_type": "execute_result"
    }
   ],
   "source": [
    "156 ^ 453"
   ]
  },
  {
   "cell_type": "code",
   "execution_count": 9,
   "id": "80fc1f6d-1a7d-48d4-a2f8-9dac7338eec7",
   "metadata": {},
   "outputs": [
    {
     "data": {
      "text/plain": [
       "14004"
      ]
     },
     "execution_count": 9,
     "metadata": {},
     "output_type": "execute_result"
    }
   ],
   "source": [
    "13213 ^ 1321"
   ]
  },
  {
   "cell_type": "markdown",
   "id": "0e65b467-79d3-4c65-be2e-952fcd69c03d",
   "metadata": {},
   "source": [
    "iv) NOT: NOT is the reverse of the output. If the output is one it reverses to zero and vice versa.\n",
    "Imp: So whenever we work with NOT we need to identify all binary numbers so the output will be too long. So, we use the formula -(n+1).\n",
    "where \"n\" is the number we are working with."
   ]
  },
  {
   "cell_type": "code",
   "execution_count": 11,
   "id": "d48d0000-12bd-4072-b6e8-060ccb2179d9",
   "metadata": {},
   "outputs": [
    {
     "data": {
      "text/plain": [
       "-4"
      ]
     },
     "execution_count": 11,
     "metadata": {},
     "output_type": "execute_result"
    }
   ],
   "source": [
    "#Example\n",
    "~3"
   ]
  },
  {
   "cell_type": "code",
   "execution_count": 13,
   "id": "2fa61fe2-e9dd-4c4a-9519-50d5a42bbf2e",
   "metadata": {},
   "outputs": [
    {
     "data": {
      "text/plain": [
       "-15"
      ]
     },
     "execution_count": 13,
     "metadata": {},
     "output_type": "execute_result"
    }
   ],
   "source": [
    "~14"
   ]
  },
  {
   "cell_type": "code",
   "execution_count": 15,
   "id": "794d31dc-dcf4-4f1e-a483-66e7f00a4dfc",
   "metadata": {},
   "outputs": [
    {
     "data": {
      "text/plain": [
       "13"
      ]
     },
     "execution_count": 15,
     "metadata": {},
     "output_type": "execute_result"
    }
   ],
   "source": [
    "~-14"
   ]
  },
  {
   "cell_type": "code",
   "execution_count": 19,
   "id": "e1d37e15-df68-4e23-b9c5-d66ed3114274",
   "metadata": {},
   "outputs": [
    {
     "data": {
      "text/plain": [
       "-677"
      ]
     },
     "execution_count": 19,
     "metadata": {},
     "output_type": "execute_result"
    }
   ],
   "source": [
    "~676"
   ]
  },
  {
   "cell_type": "markdown",
   "id": "f510f480-87eb-4f3e-95bf-50d3dd7646ba",
   "metadata": {},
   "source": [
    "v) left shift: In the left shift you add no of zeroes on the left side."
   ]
  },
  {
   "cell_type": "code",
   "execution_count": 23,
   "id": "1b20d797-85d6-4838-b4ea-286b06be84a4",
   "metadata": {},
   "outputs": [
    {
     "data": {
      "text/plain": [
       "18"
      ]
     },
     "execution_count": 23,
     "metadata": {},
     "output_type": "execute_result"
    }
   ],
   "source": [
    "#Example:\n",
    "9 << 1"
   ]
  },
  {
   "cell_type": "code",
   "execution_count": 27,
   "id": "49f5ada3-d50e-4a81-905a-618122cee02e",
   "metadata": {},
   "outputs": [
    {
     "data": {
      "text/plain": [
       "88"
      ]
     },
     "execution_count": 27,
     "metadata": {},
     "output_type": "execute_result"
    }
   ],
   "source": [
    "22 << 2"
   ]
  },
  {
   "cell_type": "code",
   "execution_count": 29,
   "id": "4ae21d5f-38b3-46bd-a597-f91e02de8529",
   "metadata": {},
   "outputs": [
    {
     "data": {
      "text/plain": [
       "528"
      ]
     },
     "execution_count": 29,
     "metadata": {},
     "output_type": "execute_result"
    }
   ],
   "source": [
    "66 <<3"
   ]
  },
  {
   "cell_type": "code",
   "execution_count": null,
   "id": "5a897556-7fac-4dbc-a49a-41cd2193f911",
   "metadata": {},
   "outputs": [],
   "source": [
    "vi) Right Shift: In the Right shift we remove the no of places."
   ]
  },
  {
   "cell_type": "code",
   "execution_count": 31,
   "id": "4a3a71a4-ccd9-4639-8992-2efc26df6fea",
   "metadata": {},
   "outputs": [
    {
     "data": {
      "text/plain": [
       "1"
      ]
     },
     "execution_count": 31,
     "metadata": {},
     "output_type": "execute_result"
    }
   ],
   "source": [
    "#Example\n",
    "7 >> 2"
   ]
  },
  {
   "cell_type": "code",
   "execution_count": 33,
   "id": "3803cde7-ad6f-48e2-97c8-154e25486086",
   "metadata": {},
   "outputs": [
    {
     "data": {
      "text/plain": [
       "22"
      ]
     },
     "execution_count": 33,
     "metadata": {},
     "output_type": "execute_result"
    }
   ],
   "source": [
    "44 >> 1"
   ]
  },
  {
   "cell_type": "code",
   "execution_count": 35,
   "id": "a9fdc194-dd03-4ebb-b766-abdf8bb2a9c3",
   "metadata": {},
   "outputs": [
    {
     "data": {
      "text/plain": [
       "1692"
      ]
     },
     "execution_count": 35,
     "metadata": {},
     "output_type": "execute_result"
    }
   ],
   "source": [
    "6768 >> 2"
   ]
  },
  {
   "cell_type": "code",
   "execution_count": 37,
   "id": "fd60c8f6-bd04-4762-b1a4-4fe08da47639",
   "metadata": {},
   "outputs": [
    {
     "data": {
      "text/plain": [
       "11"
      ]
     },
     "execution_count": 37,
     "metadata": {},
     "output_type": "execute_result"
    }
   ],
   "source": [
    "22 >> 1"
   ]
  },
  {
   "cell_type": "code",
   "execution_count": null,
   "id": "f3f4b28f-1d56-48ec-ad8d-fe7290dd5975",
   "metadata": {},
   "outputs": [],
   "source": []
  }
 ],
 "metadata": {
  "kernelspec": {
   "display_name": "Python 3 (ipykernel)",
   "language": "python",
   "name": "python3"
  },
  "language_info": {
   "codemirror_mode": {
    "name": "ipython",
    "version": 3
   },
   "file_extension": ".py",
   "mimetype": "text/x-python",
   "name": "python",
   "nbconvert_exporter": "python",
   "pygments_lexer": "ipython3",
   "version": "3.12.4"
  }
 },
 "nbformat": 4,
 "nbformat_minor": 5
}
